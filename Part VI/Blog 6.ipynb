{
 "cells": [
  {
   "cell_type": "markdown",
   "id": "c3b34282",
   "metadata": {},
   "source": [
    "***\n",
    "<div class=\"header\" style=\"\n",
    "  padding: 20px;\n",
    "  background: black;\">\n",
    "    <h1 style=\"font-family:Copperplate, Sans-serif, Arial;\n",
    "               font-size:50px;\n",
    "               font-style:bold;\n",
    "               color:white;\">\n",
    "        Part VI\n",
    "    </h1>\n",
    "    <h2 style=\"font-family:Copperplate, Sans-serif, Arial;\n",
    "               font-size:30px;\n",
    "               font-style:bold;\n",
    "               color:white;\">\n",
    "        Crusader’s Journey in the World of Images Blog Series\n",
    "    </h2>\n",
    "</div>\n",
    "\n",
    "***\n",
    "by : JP Fabrero"
   ]
  },
  {
   "cell_type": "markdown",
   "id": "2adf1acf",
   "metadata": {},
   "source": [
    "***\n",
    "<div class=\"header\" style=\"\n",
    "  padding: 20px;\n",
    "  background: black;\">\n",
    "    <h2 style=\"font-family:Copperplate, Sans-serif, Arial;\n",
    "               font-size:30px;\n",
    "               font-style:bold;\n",
    "               color:white;\">\n",
    "        Importing Libraries\n",
    "    </h2>\n",
    "</div>\n",
    "\n",
    "***"
   ]
  },
  {
   "cell_type": "code",
   "execution_count": 1,
   "id": "e9e1651a",
   "metadata": {
    "ExecuteTime": {
     "end_time": "2023-06-18T07:23:31.081159Z",
     "start_time": "2023-06-18T07:23:29.467035Z"
    }
   },
   "outputs": [
    {
     "name": "stderr",
     "output_type": "stream",
     "text": [
      "Matplotlib created a temporary config/cache directory at /tmp/matplotlib-fhmgfwxm because the default path (/home/jfabrero/.cache/matplotlib) is not a writable directory; it is highly recommended to set the MPLCONFIGDIR environment variable to a writable directory, in particular to speed up the import of Matplotlib and to better support multiprocessing.\n"
     ]
    }
   ],
   "source": [
    "import os\n",
    "os.environ['SKIMAGE_DATADIR'] = '/tmp/.skimage_cache'\n",
    "\n",
    "import numpy as np\n",
    "import matplotlib.pyplot as plt\n",
    "import matplotlib as mpl\n",
    "\n",
    "import skimage.io as skio\n",
    "from skimage.io import imread, imshow\n",
    "from skimage.color import rgb2gray\n",
    "from skimage.color import rgb2hsv\n",
    "\n",
    "from pickling import *\n",
    "from pyjanitor import auto_toc\n",
    "toc = auto_toc()"
   ]
  },
  {
   "cell_type": "markdown",
   "id": "669f70d2",
   "metadata": {},
   "source": [
    "***\n",
    "<div class=\"header\" style=\"\n",
    "  padding: 20px;\n",
    "  background: black;\">\n",
    "    <h2 style=\"font-family:Copperplate, Sans-serif, Arial;\n",
    "               font-size:30px;\n",
    "               font-style:bold;\n",
    "               color:white;\">\n",
    "        Preface\n",
    "    </h2>\n",
    "</div>\n",
    "\n",
    "***\n",
    "This a continuation of our previous endeavor but here, we're going to tackle Chromaticity Segmentation. Image differencing is also to be introduced as a method for efficiently comparing visual representations."
   ]
  },
  {
   "cell_type": "markdown",
   "id": "d1033d1b",
   "metadata": {},
   "source": [
    "***\n",
    "<div class=\"header\" style=\"\n",
    "  padding: 20px;\n",
    "  background: black;\">\n",
    "    <h2 style=\"font-family:Copperplate, Sans-serif, Arial;\n",
    "               font-size:30px;\n",
    "               font-style:bold;\n",
    "               color:white;\">\n",
    "        Chromaticity Segmentation\n",
    "    </h2>\n",
    "</div>\n",
    "\n",
    "***\n",
    "Chromaticity-based segmentation focuses on the chromaticity or color information of pixels, while disregarding the intensity or brightness component. Chromaticity represents the color information relative to its intensity. By normalizing the color values based on intensity, chromaticity-based segmentation emphasizes the color properties of objects and reduces the influence of illumination changes."
   ]
  },
  {
   "cell_type": "code",
   "execution_count": 2,
   "id": "69248337",
   "metadata": {
    "ExecuteTime": {
     "end_time": "2023-06-18T07:23:31.681342Z",
     "start_time": "2023-06-18T07:23:31.085961Z"
    }
   },
   "outputs": [
    {
     "data": {
      "text/html": [
       "<img src=\"figures/figure1.png\" alt=\"plots\"style=\"display:block; margin-left:auto;margin-right:auto;width:100%;\">"
      ],
      "text/plain": [
       "<IPython.core.display.HTML object>"
      ]
     },
     "metadata": {},
     "output_type": "display_data"
    },
    {
     "data": {
      "text/html": [
       "\n",
       "            <center style=\"font-size:14px;\n",
       "                      font-style:default;\">\n",
       "            <b>Figure 1.</b> Sample Image (Mega Swampert)[1].\n",
       "            </center>\n",
       "            <center style=\"font-size:12px;\"><i>\n",
       "            .\n",
       "            </i></center>\n",
       "            "
      ],
      "text/plain": [
       "<IPython.core.display.HTML object>"
      ]
     },
     "metadata": {},
     "output_type": "display_data"
    }
   ],
   "source": [
    "image = imread('../mega_swampert.png')\n",
    "fig, ax = plt.subplots(figsize=(15,8))\n",
    "imshow(image)\n",
    "ax.axis('off')\n",
    "toc.add_fig('Sample Image (Mega Swampert)[1]', width=100)"
   ]
  },
  {
   "cell_type": "code",
   "execution_count": 3,
   "id": "ef7c64a4",
   "metadata": {
    "ExecuteTime": {
     "end_time": "2023-06-18T07:23:31.694863Z",
     "start_time": "2023-06-18T07:23:31.683926Z"
    }
   },
   "outputs": [],
   "source": [
    "def backproj(image, patch, bins=100, plotting=True):\n",
    "    \"\"\"Perform chromaticity based-segmentation\"\"\"\n",
    "    # Convert to the HSV color space\n",
    "    patch_hsv = rgb2hsv(patch[:,:,:3])\n",
    "    img_hsv = rgb2hsv(image[:,:,:3])\n",
    "\n",
    "    # Compute the 2D histogram of the reference patch in the H and S channels\n",
    "    patch_hist, x, y = np.histogram2d(\n",
    "        patch_hsv[:, :, 0].flatten(),\n",
    "        patch_hsv[:, :, 1].flatten(),\n",
    "        bins=100,\n",
    "        range=[[0, 1], [0, 1]]\n",
    "    )\n",
    "\n",
    "    # Normalize the histogram\n",
    "    patch_hist = patch_hist / np.max(patch_hist)\n",
    "\n",
    "    # Compute the backprojection of the image histogram\n",
    "    backproj = patch_hist[\n",
    "        np.searchsorted(x, img_hsv[:, :, 0], side='left') - 1,\n",
    "        np.searchsorted(y, img_hsv[:, :, 1], side='left') - 1\n",
    "    ]\n",
    "\n",
    "    # Normalize the backprojection\n",
    "    backproj = backproj / np.max(backproj)\n",
    "\n",
    "    # Grayscale image with 3 channels (the value is triplicated)\n",
    "    img_gs = ((np.stack([rgb2gray(image[:,:,:3])] * 3, axis=-1) * 255)\n",
    "              .astype('int').clip(0, 255))\n",
    "\n",
    "    # Create a mask for skin\n",
    "    mask = backproj > backproj.mean()\n",
    "    img_seg = img_gs.copy()\n",
    "    img_seg[mask] = image[:,:,:3][mask]\n",
    "\n",
    "    fig, axs = plt.subplots(1, 3, figsize=(15, 6),\n",
    "                            gridspec_kw=dict(width_ratios=(3,20,20)))\n",
    "    if patch.shape[0] < 0.5*patch.shape[1]:\n",
    "        patch = np.swapaxes(patch,0,1)\n",
    "    axs[0].imshow(patch)\n",
    "    axs[0].set_title('Patch Reference')\n",
    "    \n",
    "    axs[1].imshow(image)\n",
    "    axs[1].axis('off')\n",
    "    axs[1].set_title('Orignal Image')\n",
    "    \n",
    "    axs[2].imshow(img_seg)\n",
    "    axs[2].axis('off')\n",
    "    axs[2].set_title('Blue Segmented Image w/ Grayscale')\n",
    "    for ax in axs:\n",
    "        ax.axis('off')\n",
    "    \n",
    "    toc.add_fig('Sample of Chromaticity Segmentation', width=100)"
   ]
  },
  {
   "cell_type": "code",
   "execution_count": 4,
   "id": "94f69794",
   "metadata": {
    "ExecuteTime": {
     "end_time": "2023-06-18T07:23:32.456230Z",
     "start_time": "2023-06-18T07:23:31.700977Z"
    },
    "scrolled": false
   },
   "outputs": [
    {
     "data": {
      "text/html": [
       "<img src=\"figures/figure2.png\" alt=\"plots\"style=\"display:block; margin-left:auto;margin-right:auto;width:100%;\">"
      ],
      "text/plain": [
       "<IPython.core.display.HTML object>"
      ]
     },
     "metadata": {},
     "output_type": "display_data"
    },
    {
     "data": {
      "text/html": [
       "\n",
       "            <center style=\"font-size:14px;\n",
       "                      font-style:default;\">\n",
       "            <b>Figure 2.</b> Sample of Chromaticity Segmentation.\n",
       "            </center>\n",
       "            <center style=\"font-size:12px;\"><i>\n",
       "            .\n",
       "            </i></center>\n",
       "            "
      ],
      "text/plain": [
       "<IPython.core.display.HTML object>"
      ]
     },
     "metadata": {},
     "output_type": "display_data"
    }
   ],
   "source": [
    "backproj(image, image[400:500,450:550,:], 100)"
   ]
  },
  {
   "cell_type": "markdown",
   "id": "645beec8",
   "metadata": {},
   "source": [
    "***\n",
    "<div class=\"header\" style=\"\n",
    "  padding: 20px;\n",
    "  background: black;\">\n",
    "    <h2 style=\"font-family:Copperplate, Sans-serif, Arial;\n",
    "               font-size:30px;\n",
    "               font-style:bold;\n",
    "               color:white;\">\n",
    "        Image Differencing\n",
    "    </h2>\n",
    "</div>\n",
    "\n",
    "***\n",
    "Color image differencing is an image processing technique that involves comparing two or more color images to highlight the differences or changes in color between them. It is typically used to detect and analyze variations or movements in color over time or between different scenes. Color image differencing subtracts corresponding pixel values from different color images, resulting in a new image where the differences in color are emphasized. This technique is particularly useful in applications like motion detection, surveillance, and video analysis, where the detection of color changes provides valuable information for identifying objects or events of interest."
   ]
  },
  {
   "cell_type": "code",
   "execution_count": 5,
   "id": "bdbbfd92",
   "metadata": {
    "ExecuteTime": {
     "end_time": "2023-06-18T07:23:32.779008Z",
     "start_time": "2023-06-18T07:23:32.458256Z"
    }
   },
   "outputs": [
    {
     "data": {
      "text/html": [
       "<img src=\"figures/figure3.png\" alt=\"plots\"style=\"display:block; margin-left:auto;margin-right:auto;width:100%;\">"
      ],
      "text/plain": [
       "<IPython.core.display.HTML object>"
      ]
     },
     "metadata": {},
     "output_type": "display_data"
    },
    {
     "data": {
      "text/html": [
       "\n",
       "            <center style=\"font-size:14px;\n",
       "                      font-style:default;\">\n",
       "            <b>Figure 3.</b> Spot-the-Difference (Toy Story)[2].\n",
       "            </center>\n",
       "            <center style=\"font-size:12px;\"><i>\n",
       "            .\n",
       "            </i></center>\n",
       "            "
      ],
      "text/plain": [
       "<IPython.core.display.HTML object>"
      ]
     },
     "metadata": {},
     "output_type": "display_data"
    }
   ],
   "source": [
    "image2 = imread('../toy_story_1.png')\n",
    "image3 = imread('../toy_story_2.png')\n",
    "fig, ax = plt.subplots(1, 2, figsize=(15, 4))\n",
    "ax[0].imshow(image2)\n",
    "ax[0].axis('off')\n",
    "ax[1].imshow(image3)\n",
    "ax[1].axis('off')\n",
    "toc.add_fig('Spot-the-Difference (Toy Story)[2]', width=100)"
   ]
  },
  {
   "cell_type": "code",
   "execution_count": 6,
   "id": "0902bad9",
   "metadata": {
    "ExecuteTime": {
     "end_time": "2023-06-18T07:23:32.786003Z",
     "start_time": "2023-06-18T07:23:32.781214Z"
    }
   },
   "outputs": [],
   "source": [
    "def img_diff(image_1, image_2):\n",
    "    \"\"\"Perform chromaticity based-segmentation\"\"\"\n",
    "    image1_gray = rgb2gray(image_1[:,:,:3])\n",
    "    image2_gray = rgb2gray(image_2[:,:,:3])\n",
    "    \n",
    "    diff = image1_gray - image2_gray\n",
    "    \n",
    "    plt.imshow(diff-diff.mean(), 'coolwarm', vmin=-0.15, vmax=0.15)\n",
    "    plt.axis('off')\n",
    "    toc.add_fig('Image Difference')\n",
    "    \n",
    "    return diff"
   ]
  },
  {
   "cell_type": "code",
   "execution_count": 7,
   "id": "024b8386",
   "metadata": {
    "ExecuteTime": {
     "end_time": "2023-06-18T07:23:32.928373Z",
     "start_time": "2023-06-18T07:23:32.788117Z"
    },
    "scrolled": false
   },
   "outputs": [
    {
     "data": {
      "text/html": [
       "<img src=\"figures/figure4.png\" alt=\"plots\"style=\"display:block; margin-left:auto;margin-right:auto;width:80%;\">"
      ],
      "text/plain": [
       "<IPython.core.display.HTML object>"
      ]
     },
     "metadata": {},
     "output_type": "display_data"
    },
    {
     "data": {
      "text/html": [
       "\n",
       "            <center style=\"font-size:14px;\n",
       "                      font-style:default;\">\n",
       "            <b>Figure 4.</b> Image Difference.\n",
       "            </center>\n",
       "            <center style=\"font-size:12px;\"><i>\n",
       "            .\n",
       "            </i></center>\n",
       "            "
      ],
      "text/plain": [
       "<IPython.core.display.HTML object>"
      ]
     },
     "metadata": {},
     "output_type": "display_data"
    }
   ],
   "source": [
    "diff = img_diff(image2, image3)"
   ]
  },
  {
   "cell_type": "markdown",
   "id": "687ec0c9",
   "metadata": {},
   "source": [
    "***\n",
    "<div class=\"header\" style=\"\n",
    "  padding: 20px;\n",
    "  background: black;\">\n",
    "    <h2 style=\"font-family:Copperplate, Sans-serif, Arial;\n",
    "               font-size:30px;\n",
    "               font-style:bold;\n",
    "               color:white;\">\n",
    "        Author's Notes\n",
    "    </h2>\n",
    "</div>\n",
    "\n",
    "***\n",
    "Non-parametric chromaticity segmentation is perhaps one of the most nifty tricks I learned in my journey. It has its own limitations but it is definitely a tool to take note of and use. Image differencing is a simple method but when iteratively, it builds up context and streamlines investigative process. It is important to note that these methods are more impactful when combined or built up in a pipeline."
   ]
  },
  {
   "cell_type": "markdown",
   "id": "ed22099b",
   "metadata": {
    "ExecuteTime": {
     "end_time": "2023-05-29T01:47:26.422870Z",
     "start_time": "2023-05-29T01:47:25.591605Z"
    }
   },
   "source": [
    "***\n",
    "<div class=\"header\" style=\"\n",
    "  padding: 20px;\n",
    "  background: black;\">\n",
    "    <h2 style=\"font-family:Copperplate, Sans-serif, Arial;\n",
    "               font-size:30px;\n",
    "               font-style:bold;\n",
    "               color:white;\">\n",
    "        References and Acknowledgement\n",
    "    </h2>\n",
    "</div>\n",
    "\n",
    "***\n",
    "The concepts discussed were derived from our MSDS2023 - IIP Course instructed by Benjur Emmanuel L. Borja. ChatGPT was used for concept reviews and writing prompts.\n",
    "\n",
    "[1] Mega Swampert -Mega Evolve Art by Tomycase on DeviantArt. (2014, June 12). DeviantArt. https://www.deviantart.com/tomycase/art/Mega-Swampert-Mega-Evolve-Art-460315184\n",
    "\n",
    "[2] Printable Disney Games. (n.d.). Disneyclips.com. https://www.disneyclips.com/funstuff/printables.html"
   ]
  }
 ],
 "metadata": {
  "kernelspec": {
   "display_name": "Python 3 (ipykernel)",
   "language": "python",
   "name": "python3"
  },
  "language_info": {
   "codemirror_mode": {
    "name": "ipython",
    "version": 3
   },
   "file_extension": ".py",
   "mimetype": "text/x-python",
   "name": "python",
   "nbconvert_exporter": "python",
   "pygments_lexer": "ipython3",
   "version": "3.10.10"
  },
  "toc": {
   "base_numbering": 1,
   "nav_menu": {},
   "number_sections": true,
   "sideBar": true,
   "skip_h1_title": false,
   "title_cell": "Table of Contents",
   "title_sidebar": "Contents",
   "toc_cell": false,
   "toc_position": {
    "height": "calc(100% - 180px)",
    "left": "10px",
    "top": "150px",
    "width": "186.225px"
   },
   "toc_section_display": true,
   "toc_window_display": true
  }
 },
 "nbformat": 4,
 "nbformat_minor": 5
}
