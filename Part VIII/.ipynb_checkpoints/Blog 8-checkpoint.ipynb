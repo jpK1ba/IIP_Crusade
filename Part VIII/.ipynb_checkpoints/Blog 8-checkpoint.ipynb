{
 "cells": [
  {
   "cell_type": "markdown",
   "id": "c3b34282",
   "metadata": {},
   "source": [
    "***\n",
    "<div class=\"header\" style=\"\n",
    "  padding: 20px;\n",
    "  background: black;\">\n",
    "    <h1 style=\"font-family:Copperplate, Sans-serif, Arial;\n",
    "               font-size:50px;\n",
    "               font-style:bold;\n",
    "               color:white;\">\n",
    "        Part VIII\n",
    "    </h1>\n",
    "    <h2 style=\"font-family:Copperplate, Sans-serif, Arial;\n",
    "               font-size:30px;\n",
    "               font-style:bold;\n",
    "               color:white;\">\n",
    "        Crusader’s Journey in the World of Images Blog Series\n",
    "    </h2>\n",
    "</div>\n",
    "\n",
    "***\n",
    "by : JP Fabrero"
   ]
  },
  {
   "cell_type": "markdown",
   "id": "2adf1acf",
   "metadata": {},
   "source": [
    "***\n",
    "<div class=\"header\" style=\"\n",
    "  padding: 20px;\n",
    "  background: black;\">\n",
    "    <h2 style=\"font-family:Copperplate, Sans-serif, Arial;\n",
    "               font-size:30px;\n",
    "               font-style:bold;\n",
    "               color:white;\">\n",
    "        Importing Libraries\n",
    "    </h2>\n",
    "</div>\n",
    "\n",
    "***"
   ]
  },
  {
   "cell_type": "code",
   "execution_count": 1,
   "id": "e9e1651a",
   "metadata": {
    "ExecuteTime": {
     "end_time": "2023-06-18T09:19:47.149680Z",
     "start_time": "2023-06-18T09:19:45.206002Z"
    }
   },
   "outputs": [
    {
     "name": "stderr",
     "output_type": "stream",
     "text": [
      "Matplotlib created a temporary config/cache directory at /tmp/matplotlib-6x3p9txe because the default path (/home/jfabrero/.cache/matplotlib) is not a writable directory; it is highly recommended to set the MPLCONFIGDIR environment variable to a writable directory, in particular to speed up the import of Matplotlib and to better support multiprocessing.\n"
     ]
    }
   ],
   "source": [
    "import os\n",
    "os.environ['SKIMAGE_DATADIR'] = '/tmp/.skimage_cache'\n",
    "\n",
    "import numpy as np\n",
    "import matplotlib.pyplot as plt\n",
    "import matplotlib as mpl\n",
    "\n",
    "import skimage.io as skio\n",
    "from skimage.io import imread, imshow\n",
    "from skimage.color import rgb2gray\n",
    "from skimage import transform\n",
    "from skimage.util import img_as_ubyte\n",
    "from skimage.filters.rank import entropy\n",
    "from skimage.morphology import disk\n",
    "\n",
    "from pickling import *\n",
    "from pyjanitor import auto_toc\n",
    "toc = auto_toc()"
   ]
  },
  {
   "cell_type": "markdown",
   "id": "669f70d2",
   "metadata": {},
   "source": [
    "***\n",
    "<div class=\"header\" style=\"\n",
    "  padding: 20px;\n",
    "  background: black;\">\n",
    "    <h2 style=\"font-family:Copperplate, Sans-serif, Arial;\n",
    "               font-size:30px;\n",
    "               font-style:bold;\n",
    "               color:white;\">\n",
    "        Preface\n",
    "    </h2>\n",
    "</div>\n",
    "\n",
    "***\n",
    "One of best legs in our crusade, this discussion introduces concepts for adjusting perspective and quantifying tactile stimuli from visuals. We were on the verge of over-exhaustion and hopelessness, this entry have quite literally changed my perspective."
   ]
  },
  {
   "cell_type": "markdown",
   "id": "d1033d1b",
   "metadata": {},
   "source": [
    "***\n",
    "<div class=\"header\" style=\"\n",
    "  padding: 20px;\n",
    "  background: black;\">\n",
    "    <h2 style=\"font-family:Copperplate, Sans-serif, Arial;\n",
    "               font-size:30px;\n",
    "               font-style:bold;\n",
    "               color:white;\">\n",
    "        Homography Matrix\n",
    "    </h2>\n",
    "</div>\n",
    "\n",
    "***\n",
    "A homography matrix, also known as a perspective transformation matrix, is a 3x3 matrix that describes the geometric transformation between two planar images or scenes. It represents the mapping between corresponding points in one image to their corresponding points in another image, considering the effects of perspective and projective distortion. The homography matrix allows for the transformation of points, lines, or entire images between different perspectives, such as from one camera view to another or from a 2D plane to a different viewpoint in 3D space. "
   ]
  },
  {
   "cell_type": "code",
   "execution_count": 2,
   "id": "69248337",
   "metadata": {
    "ExecuteTime": {
     "end_time": "2023-06-18T09:19:47.803374Z",
     "start_time": "2023-06-18T09:19:47.152964Z"
    }
   },
   "outputs": [
    {
     "data": {
      "text/html": [
       "<img src=\"figures/figure1.png\" alt=\"plots\"style=\"display:block; margin-left:auto;margin-right:auto;width:100%;\">"
      ],
      "text/plain": [
       "<IPython.core.display.HTML object>"
      ]
     },
     "metadata": {},
     "output_type": "display_data"
    },
    {
     "data": {
      "text/html": [
       "\n",
       "            <center style=\"font-size:14px;\n",
       "                      font-style:default;\">\n",
       "            <b>Figure 1.</b> Sample Image (Pokemon First Movie)[1].\n",
       "            </center>\n",
       "            <center style=\"font-size:12px;\"><i>\n",
       "            .\n",
       "            </i></center>\n",
       "            "
      ],
      "text/plain": [
       "<IPython.core.display.HTML object>"
      ]
     },
     "metadata": {},
     "output_type": "display_data"
    }
   ],
   "source": [
    "image = imread('../pokemon_first_movie.png')\n",
    "fig, ax = plt.subplots(figsize=(15,8))\n",
    "imshow(image)\n",
    "# ax.axis('off')\n",
    "toc.add_fig('Sample Image (Pokemon First Movie)[1]', width=100)"
   ]
  },
  {
   "cell_type": "code",
   "execution_count": 3,
   "id": "ef7c64a4",
   "metadata": {
    "ExecuteTime": {
     "end_time": "2023-06-18T09:19:47.811698Z",
     "start_time": "2023-06-18T09:19:47.805410Z"
    }
   },
   "outputs": [],
   "source": [
    "def perform_transform(image, src, dst, bg=None):\n",
    "    \"\"\"Perform perspective transformation\"\"\"\n",
    "    tform = transform.estimate_transform('projective', src, dst)\n",
    "    \n",
    "    fig, ax = plt.subplots(1, 2, figsize=(15, 4))\n",
    "    ax[0].imshow(image)\n",
    "    ax[0].scatter(src[:, 0], src[:,1], c='r')\n",
    "    ax[0].axis('off')\n",
    "    \n",
    "    if bg is not None:\n",
    "        img_tf = transform.warp(image, tform.inverse,\n",
    "                                output_shape=court.shape)\n",
    "        bg = plt.imshow(bg, ax=ax[1])\n",
    "        ax[1].imshow(img_tf)\n",
    "        ax[1].axis('off')\n",
    "        ax[1].scatter(dst[:, 0], dst[:,1], c='r')\n",
    "    else:\n",
    "        img_tf = transform.warp(image, tform.inverse)\n",
    "        ax[1].imshow(img_tf)\n",
    "        ax[1].axis('off')\n",
    "        ax[1].scatter(dst[:, 0], dst[:,1], c='r')\n",
    "        \n",
    "    toc.add_fig('Sample Projective Transformation', width=100)"
   ]
  },
  {
   "cell_type": "code",
   "execution_count": 4,
   "id": "94f69794",
   "metadata": {
    "ExecuteTime": {
     "end_time": "2023-06-18T09:19:48.498405Z",
     "start_time": "2023-06-18T09:19:47.813913Z"
    },
    "scrolled": true
   },
   "outputs": [
    {
     "data": {
      "text/html": [
       "<img src=\"figures/figure2.png\" alt=\"plots\"style=\"display:block; margin-left:auto;margin-right:auto;width:100%;\">"
      ],
      "text/plain": [
       "<IPython.core.display.HTML object>"
      ]
     },
     "metadata": {},
     "output_type": "display_data"
    },
    {
     "data": {
      "text/html": [
       "\n",
       "            <center style=\"font-size:14px;\n",
       "                      font-style:default;\">\n",
       "            <b>Figure 2.</b> Sample Projective Transformation.\n",
       "            </center>\n",
       "            <center style=\"font-size:12px;\"><i>\n",
       "            .\n",
       "            </i></center>\n",
       "            "
      ],
      "text/plain": [
       "<IPython.core.display.HTML object>"
      ]
     },
     "metadata": {},
     "output_type": "display_data"
    }
   ],
   "source": [
    "src = np.array([[70, 210],\n",
    "                [1245, 450],\n",
    "                [230, 615],\n",
    "                [945, 120]])\n",
    "dims = image.shape\n",
    "pad = 100\n",
    "dst = np.array([[pad, pad],\n",
    "                [dims[1]-pad, dims[0]-pad],\n",
    "                [pad, dims[0]-pad],\n",
    "                [dims[1]-pad, pad]])\n",
    "perform_transform(image, src, dst, bg=None)"
   ]
  },
  {
   "cell_type": "markdown",
   "id": "a0ea9d68",
   "metadata": {},
   "source": [
    "***\n",
    "<div class=\"header\" style=\"\n",
    "    padding: 20px;\n",
    "    background: black;\">\n",
    "    <h2 style=\"font-family:Copperplate, Sans-serif, Arial;\n",
    "               font-size:30px;\n",
    "               font-style:bold;\n",
    "               color:white;\">\n",
    "        Texture Metrics\n",
    "    </h2>\n",
    "</div>\n",
    "\n",
    "***\n",
    "Texture metrics refer to quantitative measures or descriptors used to characterize the texture properties of an image or a region within an image. Texture metrics can be computed based on statistical, structural, or frequency domain analysis of image data. They provide valuable information for tasks such as texture classification, segmentation, image retrieval, and image analysis."
   ]
  },
  {
   "cell_type": "code",
   "execution_count": 5,
   "id": "611bf8ee",
   "metadata": {
    "ExecuteTime": {
     "end_time": "2023-06-18T09:19:48.938000Z",
     "start_time": "2023-06-18T09:19:48.500726Z"
    }
   },
   "outputs": [
    {
     "data": {
      "text/html": [
       "<img src=\"figures/figure3.png\" alt=\"plots\"style=\"display:block; margin-left:auto;margin-right:auto;width:100%;\">"
      ],
      "text/plain": [
       "<IPython.core.display.HTML object>"
      ]
     },
     "metadata": {},
     "output_type": "display_data"
    },
    {
     "data": {
      "text/html": [
       "\n",
       "            <center style=\"font-size:14px;\n",
       "                      font-style:default;\">\n",
       "            <b>Figure 3.</b> Sample Image (Mega Swampert)[2].\n",
       "            </center>\n",
       "            <center style=\"font-size:12px;\"><i>\n",
       "            .\n",
       "            </i></center>\n",
       "            "
      ],
      "text/plain": [
       "<IPython.core.display.HTML object>"
      ]
     },
     "metadata": {},
     "output_type": "display_data"
    }
   ],
   "source": [
    "image2 = imread('../mega_swampert.png')\n",
    "fig, ax = plt.subplots(figsize=(15,8))\n",
    "imshow(image2)\n",
    "ax.axis('off')\n",
    "toc.add_fig('Sample Image (Mega Swampert)[2]', width=100)"
   ]
  },
  {
   "cell_type": "code",
   "execution_count": 6,
   "id": "4477af51",
   "metadata": {
    "ExecuteTime": {
     "end_time": "2023-06-18T09:19:48.947237Z",
     "start_time": "2023-06-18T09:19:48.940076Z"
    }
   },
   "outputs": [],
   "source": [
    "def texture_metrics(image):\n",
    "    \"\"\"Plot text metrics for different thresholds\"\"\"\n",
    "    img_gs = rgb2gray(image[:,:,:3])\n",
    "    thresholds = np.arange(0.1, 1, 0.1)\n",
    "    entropies = []\n",
    "    # Plot\n",
    "    fig, ax = plt.subplots(3, 3, figsize=(15, 12))\n",
    "    ax = ax.flatten()\n",
    "    \n",
    "    for i, thresh in enumerate(thresholds):\n",
    "        img_bw = (img_gs > thresh)\n",
    "        ax[i].imshow(img_bw, cmap='gray')\n",
    "        img_bw = img_bw.flatten()\n",
    "        prob_w = img_bw.sum() / len(img_bw)\n",
    "        prob_b = 1 - prob_w\n",
    "\n",
    "        # Calculate Entropy\n",
    "        if prob_w == 0 or prob_w == 1:\n",
    "            entropy = 0\n",
    "        else:\n",
    "            entropy = (-((prob_b * np.log(prob_b)) +\n",
    "                         (prob_w * np.log(prob_w))))\n",
    "        entropies.append(entropy)\n",
    "        \n",
    "        ax[i].set_title(f\"Threshold={thresh:.2f}, Entropy={entropy:.2f}\")\n",
    "        ax[i].set_axis_off()\n",
    "        \n",
    "    toc.add_fig('Sample Calculation of Texture', width=100)"
   ]
  },
  {
   "cell_type": "code",
   "execution_count": 7,
   "id": "9fac9387",
   "metadata": {
    "ExecuteTime": {
     "end_time": "2023-06-18T09:19:50.086506Z",
     "start_time": "2023-06-18T09:19:48.949447Z"
    },
    "scrolled": false
   },
   "outputs": [
    {
     "data": {
      "text/html": [
       "<img src=\"figures/figure4.png\" alt=\"plots\"style=\"display:block; margin-left:auto;margin-right:auto;width:100%;\">"
      ],
      "text/plain": [
       "<IPython.core.display.HTML object>"
      ]
     },
     "metadata": {},
     "output_type": "display_data"
    },
    {
     "data": {
      "text/html": [
       "\n",
       "            <center style=\"font-size:14px;\n",
       "                      font-style:default;\">\n",
       "            <b>Figure 4.</b> Sample Calculation of Texture.\n",
       "            </center>\n",
       "            <center style=\"font-size:12px;\"><i>\n",
       "            .\n",
       "            </i></center>\n",
       "            "
      ],
      "text/plain": [
       "<IPython.core.display.HTML object>"
      ]
     },
     "metadata": {},
     "output_type": "display_data"
    }
   ],
   "source": [
    "texture_metrics(image2)"
   ]
  },
  {
   "cell_type": "markdown",
   "id": "ed22099b",
   "metadata": {
    "ExecuteTime": {
     "end_time": "2023-05-29T01:47:26.422870Z",
     "start_time": "2023-05-29T01:47:25.591605Z"
    }
   },
   "source": [
    "***\n",
    "<div class=\"header\" style=\"\n",
    "  padding: 20px;\n",
    "  background: black;\">\n",
    "    <h2 style=\"font-family:Copperplate, Sans-serif, Arial;\n",
    "               font-size:30px;\n",
    "               font-style:bold;\n",
    "               color:white;\">\n",
    "        References and Acknowledgement\n",
    "    </h2>\n",
    "</div>\n",
    "\n",
    "***\n",
    "The concepts discussed were derived from our MSDS2023 - IIP Course instructed by Benjur Emmanuel L. Borja. ChatGPT was used for concept reviews and writing prompts.\n",
    "\n",
    "[1] Pokémon: The First Movie - Mewtwo Strikes Back (1998) - IMDb. (1999, November 12). IMDb. https://m.imdb.com/title/tt0190641/?ref_=m_ttmi_tt\n",
    "\n",
    "[2] Mega Swampert -Mega Evolve Art by Tomycase on DeviantArt. (2014, June 12). DeviantArt. https://www.deviantart.com/tomycase/art/Mega-Swampert-Mega-Evolve-Art-460315184"
   ]
  },
  {
   "cell_type": "code",
   "execution_count": null,
   "id": "1d3d637b",
   "metadata": {},
   "outputs": [],
   "source": []
  }
 ],
 "metadata": {
  "kernelspec": {
   "display_name": "Python 3 (ipykernel)",
   "language": "python",
   "name": "python3"
  },
  "language_info": {
   "codemirror_mode": {
    "name": "ipython",
    "version": 3
   },
   "file_extension": ".py",
   "mimetype": "text/x-python",
   "name": "python",
   "nbconvert_exporter": "python",
   "pygments_lexer": "ipython3",
   "version": "3.10.10"
  },
  "toc": {
   "base_numbering": 1,
   "nav_menu": {},
   "number_sections": true,
   "sideBar": true,
   "skip_h1_title": false,
   "title_cell": "Table of Contents",
   "title_sidebar": "Contents",
   "toc_cell": false,
   "toc_position": {
    "height": "calc(100% - 180px)",
    "left": "10px",
    "top": "150px",
    "width": "186.225px"
   },
   "toc_section_display": true,
   "toc_window_display": true
  }
 },
 "nbformat": 4,
 "nbformat_minor": 5
}
