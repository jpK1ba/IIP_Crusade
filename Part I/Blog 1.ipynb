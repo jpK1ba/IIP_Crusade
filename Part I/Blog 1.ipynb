{
 "cells": [
  {
   "cell_type": "markdown",
   "id": "c3b34282",
   "metadata": {},
   "source": [
    "***\n",
    "<div class=\"header\" style=\"\n",
    "  padding: 20px;\n",
    "  background: black;\">\n",
    "    <h1 style=\"font-family:Copperplate, Sans-serif, Arial;\n",
    "               font-size:50px;\n",
    "               font-style:bold;\n",
    "               color:white;\">\n",
    "        Part I\n",
    "    </h1>\n",
    "    <h2 style=\"font-family:Copperplate, Sans-serif, Arial;\n",
    "               font-size:30px;\n",
    "               font-style:bold;\n",
    "               color:white;\">\n",
    "         Crusader’s Journey in the World of Images Blog Series\n",
    "    </h2>\n",
    "</div>\n",
    "\n",
    "***\n",
    "by : JP Fabrero"
   ]
  },
  {
   "cell_type": "markdown",
   "id": "2adf1acf",
   "metadata": {},
   "source": [
    "***\n",
    "<div class=\"header\" style=\"\n",
    "  padding: 20px;\n",
    "  background: black;\">\n",
    "    <h2 style=\"font-family:Copperplate, Sans-serif, Arial;\n",
    "               font-size:30px;\n",
    "               font-style:bold;\n",
    "               color:white;\">\n",
    "        Importing Libraries\n",
    "    </h2>\n",
    "</div>\n",
    "\n",
    "***"
   ]
  },
  {
   "cell_type": "code",
   "execution_count": 1,
   "id": "e9e1651a",
   "metadata": {
    "ExecuteTime": {
     "end_time": "2023-06-18T09:53:13.948887Z",
     "start_time": "2023-06-18T09:53:12.019127Z"
    }
   },
   "outputs": [
    {
     "name": "stderr",
     "output_type": "stream",
     "text": [
      "Matplotlib created a temporary config/cache directory at /tmp/matplotlib-rgepn_pt because the default path (/home/jfabrero/.cache/matplotlib) is not a writable directory; it is highly recommended to set the MPLCONFIGDIR environment variable to a writable directory, in particular to speed up the import of Matplotlib and to better support multiprocessing.\n"
     ]
    }
   ],
   "source": [
    "import os\n",
    "os.environ['SKIMAGE_DATADIR'] = '/tmp/.skimage_cache'\n",
    "\n",
    "import numpy as np\n",
    "import matplotlib.pyplot as plt\n",
    "import matplotlib as mpl\n",
    "\n",
    "import skimage.io as skio\n",
    "from skimage.io import imread, imshow\n",
    "from skimage.transform import downscale_local_mean\n",
    "from skimage.color import rgb2gray\n",
    "from skimage.color import rgb2hsv\n",
    "\n",
    "from pickling import *\n",
    "from pyjanitor import auto_toc\n",
    "toc = auto_toc()"
   ]
  },
  {
   "cell_type": "markdown",
   "id": "669f70d2",
   "metadata": {},
   "source": [
    "***\n",
    "<div class=\"header\" style=\"\n",
    "  padding: 20px;\n",
    "  background: black;\">\n",
    "    <h2 style=\"font-family:Copperplate, Sans-serif, Arial;\n",
    "               font-size:30px;\n",
    "               font-style:bold;\n",
    "               color:white;\">\n",
    "        Preface\n",
    "    </h2>\n",
    "</div>\n",
    "\n",
    "***\n",
    "Candidly, this series of blogs is composed by someone who had little to no care for images, poorly maintained Instagram profile, and someone who loathes writing. Anything you read may not of quality but I do hope the codes may help you in your own journey. Over the duration of my term here in the MS Data Science program, I’ve to come to appreciate how data comes in all forms - structured and unstructured. Images, an example of unstructured data, unbelievably hold ridiculous amount of information waiting to be inferred. In the name of Data Science, these writings, albeit a course requirement, aim to record my efforts to uncover and learn the ‘hidden’ secrets of processing and mining the treasure troves abundantly present in our generations."
   ]
  },
  {
   "cell_type": "markdown",
   "id": "d1033d1b",
   "metadata": {},
   "source": [
    "***\n",
    "<div class=\"header\" style=\"\n",
    "  padding: 20px;\n",
    "  background: black;\">\n",
    "    <h2 style=\"font-family:Copperplate, Sans-serif, Arial;\n",
    "               font-size:30px;\n",
    "               font-style:bold;\n",
    "               color:white;\">\n",
    "        Images\n",
    "    </h2>\n",
    "</div>\n",
    "\n",
    "***\n",
    "Images, or pictures, are visual representations of objects, scenes, ideas, or functions that are captured, created, compiled, or collected - some common forms are drawings, photographs, graphs, diagrams, and maps.  Two of the common representations of images are digital and analog.\n",
    "\n",
    "The onset of digital era led to a proliferation of digital images. The ability to easily capture and share images with others led to a boom in digital photography and a shift away from analog mediums. Today, digital images are the primary means of capturing, storing, and sharing images, with film-based photography remaining a niche hobby for enthusiasts or market for specific requirements.\n",
    "\n",
    "In the interest of image processing, digital images will be the subject of our focus. \n",
    "\t\n",
    "Digital images are generally constructed as one of two different ways – vector and raster. Vector images are constructed using functions, equations, or lines, and are scalable in terms of rendering. Raster images on the other hand are expressed in pixels with each pixel assigned a value or a set thereof to represent how it’s going to be rendered."
   ]
  },
  {
   "cell_type": "code",
   "execution_count": 2,
   "id": "daa4c1b8",
   "metadata": {
    "ExecuteTime": {
     "end_time": "2023-06-18T09:53:14.125716Z",
     "start_time": "2023-06-18T09:53:13.952217Z"
    },
    "code_folding": [
     0
    ],
    "scrolled": true
   },
   "outputs": [
    {
     "data": {
      "text/html": [
       "<center><style type=\"text/css\">\n",
       "#T_199b7 th.col_heading {\n",
       "  background-color: black;\n",
       "  color: white;\n",
       "  text-align: center;\n",
       "}\n",
       "#T_199b7 td {\n",
       "  background-color: white;\n",
       "  color: black;\n",
       "  text-align: center;\n",
       "}\n",
       "#T_199b7 tr {\n",
       "  border-left: 1px solid black;\n",
       "  border-right: 1px solid black;\n",
       "  border-bottom: 1px solid black;\n",
       "}\n",
       "#T_199b7 td {\n",
       "  border-left: 1px solid black;\n",
       "  border-right: 1px solid black;\n",
       "  border-bottom: 1px solid black;\n",
       "}\n",
       "</style>\n",
       "<table id=\"T_199b7\">\n",
       "  <thead>\n",
       "    <tr>\n",
       "      <th id=\"T_199b7_level0_col0\" class=\"col_heading level0 col0\" >Feature</th>\n",
       "      <th id=\"T_199b7_level0_col1\" class=\"col_heading level0 col1\" >Digital Images</th>\n",
       "      <th id=\"T_199b7_level0_col2\" class=\"col_heading level0 col2\" >Analog Images</th>\n",
       "    </tr>\n",
       "  </thead>\n",
       "  <tbody>\n",
       "    <tr>\n",
       "      <td id=\"T_199b7_row0_col0\" class=\"data row0 col0\" >Resolution</td>\n",
       "      <td id=\"T_199b7_row0_col1\" class=\"data row0 col1\" >Determined by the number of pixels (dimensionally defined)</td>\n",
       "      <td id=\"T_199b7_row0_col2\" class=\"data row0 col2\" >Determined by the physical medium used (virtually infinite)</td>\n",
       "    </tr>\n",
       "    <tr>\n",
       "      <td id=\"T_199b7_row1_col0\" class=\"data row1 col0\" >Storage</td>\n",
       "      <td id=\"T_199b7_row1_col1\" class=\"data row1 col1\" >Stored as digital files</td>\n",
       "      <td id=\"T_199b7_row1_col2\" class=\"data row1 col2\" >Require physical storage, such as prints or negatives</td>\n",
       "    </tr>\n",
       "    <tr>\n",
       "      <td id=\"T_199b7_row2_col0\" class=\"data row2 col0\" >Durability</td>\n",
       "      <td id=\"T_199b7_row2_col1\" class=\"data row2 col1\" >Can be easily backed up and stored</td>\n",
       "      <td id=\"T_199b7_row2_col2\" class=\"data row2 col2\" >More vulnerable to physical damage and degradation over time</td>\n",
       "    </tr>\n",
       "  </tbody>\n",
       "</table>\n",
       "</center>"
      ],
      "text/plain": [
       "<IPython.core.display.HTML object>"
      ]
     },
     "metadata": {},
     "output_type": "display_data"
    },
    {
     "data": {
      "text/html": [
       "\n",
       "            <center style=\"font-size:14px;\n",
       "                           font-style:default;\">\n",
       "            <b>Table 1.</b> Preview of Summary of Key/Unique Characteristics.\n",
       "            </center>\n",
       "            <center style=\"font-size:12px;\"><i>\n",
       "            .\n",
       "            </i></center>\n",
       "            "
      ],
      "text/plain": [
       "<IPython.core.display.HTML object>"
      ]
     },
     "metadata": {},
     "output_type": "display_data"
    }
   ],
   "source": [
    "# Show Summary Table\n",
    "table = \"\"\"\n",
    "<table>\n",
    "    <tr>\n",
    "        <th>Feature</th>\n",
    "        <th>Digital Images</th>\n",
    "        <th>Analog Images</th>\n",
    "    </tr>\n",
    "    <tr>\n",
    "        <td>Resolution</td>\n",
    "        <td>Determined by the number of pixels (dimensionally defined)</td>\n",
    "        <td>Determined by the physical medium used (virtually infinite)</td>\n",
    "    </tr>\n",
    "    <tr>\n",
    "        <td>Storage</td>\n",
    "        <td>Stored as digital files</td>\n",
    "        <td>Require physical storage, such as prints or negatives</td>\n",
    "    </tr>\n",
    "    <tr>\n",
    "        <td>Durability</td>\n",
    "        <td>Can be easily backed up and stored</td>\n",
    "        <td>More vulnerable to physical damage and degradation over time</td>\n",
    "    </tr>\n",
    "</table>\n",
    "\"\"\"\n",
    "toc.add_table(table,\n",
    "             'Summary of Key/Unique Characteristics')"
   ]
  },
  {
   "cell_type": "markdown",
   "id": "59936b08",
   "metadata": {},
   "source": [
    "***\n",
    "<div class=\"header\" style=\"\n",
    "  padding: 20px;\n",
    "  background: black;\n",
    "  text-align: center\">\n",
    "    <h3 style=\"font-family:Copperplate, Sans-serif, Arial;\n",
    "               font-size:16px;\n",
    "               color:white;\">\n",
    "        <b>NOTE</b>: Image Processing using Scikit-Image\n",
    "    </h3>\n",
    "</div>\n",
    "\n",
    "***\n",
    "Throughout this series, we'll rely on scikit-image (or skimage) and numpy closely familiarize ourselves with key concepts of the different algorithms to be discussed."
   ]
  },
  {
   "cell_type": "code",
   "execution_count": 3,
   "id": "69248337",
   "metadata": {
    "ExecuteTime": {
     "end_time": "2023-06-18T09:53:14.672101Z",
     "start_time": "2023-06-18T09:53:14.127818Z"
    }
   },
   "outputs": [
    {
     "data": {
      "text/html": [
       "<img src=\"figures/figure1.png\" alt=\"plots\"style=\"display:block; margin-left:auto;margin-right:auto;width:100%;\">"
      ],
      "text/plain": [
       "<IPython.core.display.HTML object>"
      ]
     },
     "metadata": {},
     "output_type": "display_data"
    },
    {
     "data": {
      "text/html": [
       "\n",
       "            <center style=\"font-size:14px;\n",
       "                      font-style:default;\">\n",
       "            <b>Figure 1.</b> Sample Image (Mega Swampert)[1].\n",
       "            </center>\n",
       "            <center style=\"font-size:12px;\"><i>\n",
       "            .\n",
       "            </i></center>\n",
       "            "
      ],
      "text/plain": [
       "<IPython.core.display.HTML object>"
      ]
     },
     "metadata": {},
     "output_type": "display_data"
    }
   ],
   "source": [
    "image = imread('../mega_swampert.png')\n",
    "fig, ax = plt.subplots(figsize=(15,8))\n",
    "imshow(image)\n",
    "ax.axis('off')\n",
    "toc.add_fig('Sample Image (Mega Swampert)[1]', width=100)"
   ]
  },
  {
   "cell_type": "markdown",
   "id": "92de758a",
   "metadata": {},
   "source": [
    "***\n",
    "<div class=\"header\" style=\"\n",
    "    padding: 20px;\n",
    "    background: black;\">\n",
    "    <h2 style=\"font-family:Copperplate, Sans-serif, Arial;\n",
    "               font-size:30px;\n",
    "               font-style:bold;\n",
    "               color:white;\">\n",
    "        Sampling\n",
    "    </h2>\n",
    "</div>\n",
    "\n",
    "***\n",
    "In image processing, sampling is a fundamental operation that involves discretizing a continuous image into a grid of discrete pixels. Each pixel represents the intensity or color information at a specific location in the image. By sampling at regular intervals, the image is divided into a grid pattern, and the pixel values are captured at those grid points. The size of the grid determines the spatial resolution of the resulting image."
   ]
  },
  {
   "cell_type": "code",
   "execution_count": 4,
   "id": "ef7c64a4",
   "metadata": {
    "ExecuteTime": {
     "end_time": "2023-06-18T09:53:14.681039Z",
     "start_time": "2023-06-18T09:53:14.675164Z"
    }
   },
   "outputs": [],
   "source": [
    "def plot_downsample(image):\n",
    "    \"\"\"Plot downsamples in different Ns\"\"\"\n",
    "    dims = image.shape\n",
    "    factors = 4**np.arange(4, -1, -1)\n",
    "    fig, ax = plt.subplots(1, len(factors), figsize=(15, 2.5))\n",
    "    for i, factor in enumerate(factors):\n",
    "        img_down = downscale_local_mean(image, \n",
    "                                        factors=(factor, factor, 1)).astype(int)\n",
    "        img_down_shp = np.ceil(dims / np.array([factor, factor, 1]))\n",
    "        ax[i].imshow(img_down)\n",
    "        ax[i].set_title(f'$N = {img_down_shp[0]:.0f} x {img_down_shp[1]:.0f}$')\n",
    "        ax[i].axis('off')\n",
    "    toc.add_fig('Example of Down Sampling', width=100)"
   ]
  },
  {
   "cell_type": "code",
   "execution_count": 5,
   "id": "94f69794",
   "metadata": {
    "ExecuteTime": {
     "end_time": "2023-06-18T09:53:15.315784Z",
     "start_time": "2023-06-18T09:53:14.682926Z"
    },
    "scrolled": true
   },
   "outputs": [
    {
     "data": {
      "text/html": [
       "<img src=\"figures/figure2.png\" alt=\"plots\"style=\"display:block; margin-left:auto;margin-right:auto;width:100%;\">"
      ],
      "text/plain": [
       "<IPython.core.display.HTML object>"
      ]
     },
     "metadata": {},
     "output_type": "display_data"
    },
    {
     "data": {
      "text/html": [
       "\n",
       "            <center style=\"font-size:14px;\n",
       "                      font-style:default;\">\n",
       "            <b>Figure 2.</b> Example of Down Sampling.\n",
       "            </center>\n",
       "            <center style=\"font-size:12px;\"><i>\n",
       "            .\n",
       "            </i></center>\n",
       "            "
      ],
      "text/plain": [
       "<IPython.core.display.HTML object>"
      ]
     },
     "metadata": {},
     "output_type": "display_data"
    }
   ],
   "source": [
    "plot_downsample(image)"
   ]
  },
  {
   "cell_type": "markdown",
   "id": "a0ea9d68",
   "metadata": {},
   "source": [
    "***\n",
    "<div class=\"header\" style=\"\n",
    "    padding: 20px;\n",
    "    background: black;\">\n",
    "    <h2 style=\"font-family:Copperplate, Sans-serif, Arial;\n",
    "               font-size:30px;\n",
    "               font-style:bold;\n",
    "               color:white;\">\n",
    "        Quantization\n",
    "    </h2>\n",
    "</div>\n",
    "\n",
    "***\n",
    "Quantization involves dividing the range of pixel intensity values into a smaller number of levels. For example, in an 8-bit grayscale image, each pixel can originally have 256 possible intensity values (ranging from 0 to 255). Quantization can be applied to reduce these values to a lower number, such as 64 levels or 16 levels. This process effectively reduces the level of detail and smoothens the image. It's commonly used in image and video compression techniques to reduce data size and facilitate efficient storage and transmission."
   ]
  },
  {
   "cell_type": "code",
   "execution_count": 6,
   "id": "4477af51",
   "metadata": {
    "ExecuteTime": {
     "end_time": "2023-06-18T09:53:15.331685Z",
     "start_time": "2023-06-18T09:53:15.320240Z"
    }
   },
   "outputs": [],
   "source": [
    "def plot_quantization(image):\n",
    "    \"\"\"Plot image in different ks\"\"\"\n",
    "    ks = 2**np.arange(1, 6)\n",
    "    fig, ax = plt.subplots(1, len(ks), figsize=(15, 2.5))\n",
    "    for i, k in enumerate(ks):\n",
    "        bins = np.linspace(0, image.max(), k)\n",
    "        img_k = np.digitize(image, bins)\n",
    "        img_k = np.vectorize(bins.tolist().__getitem__)(img_k-1).astype(int)\n",
    "        ax[i].imshow(img_k)\n",
    "        ax[i].set_title(f'$k = {k}$')\n",
    "        ax[i].axis('off')\n",
    "    toc.add_fig('Example of Quantization', width=100)"
   ]
  },
  {
   "cell_type": "code",
   "execution_count": 7,
   "id": "9fac9387",
   "metadata": {
    "ExecuteTime": {
     "end_time": "2023-06-18T09:53:17.295466Z",
     "start_time": "2023-06-18T09:53:15.336078Z"
    },
    "scrolled": false
   },
   "outputs": [
    {
     "data": {
      "text/html": [
       "<img src=\"figures/figure3.png\" alt=\"plots\"style=\"display:block; margin-left:auto;margin-right:auto;width:100%;\">"
      ],
      "text/plain": [
       "<IPython.core.display.HTML object>"
      ]
     },
     "metadata": {},
     "output_type": "display_data"
    },
    {
     "data": {
      "text/html": [
       "\n",
       "            <center style=\"font-size:14px;\n",
       "                      font-style:default;\">\n",
       "            <b>Figure 3.</b> Example of Quantization.\n",
       "            </center>\n",
       "            <center style=\"font-size:12px;\"><i>\n",
       "            .\n",
       "            </i></center>\n",
       "            "
      ],
      "text/plain": [
       "<IPython.core.display.HTML object>"
      ]
     },
     "metadata": {},
     "output_type": "display_data"
    }
   ],
   "source": [
    "plot_quantization(image)"
   ]
  },
  {
   "cell_type": "markdown",
   "id": "daa7df2d",
   "metadata": {},
   "source": [
    "***\n",
    "<div class=\"header\" style=\"\n",
    "    padding: 20px;\n",
    "    background: black;\">\n",
    "    <h2 style=\"font-family:Copperplate, Sans-serif, Arial;\n",
    "               font-size:30px;\n",
    "               font-style:bold;\n",
    "               color:white;\">\n",
    "        Image Types\n",
    "    </h2>\n",
    "</div>\n",
    "\n",
    "***\n",
    "Image are commonly encountered in or converted to different types in image processing and computer graphics. Each type has its own characteristics and is suitable for different applications and use cases. Some of the commonly encountered image types based on color representation are the following:\n",
    "\n",
    "* **Grayscale Images**: Grayscale images consist of shades of gray ranging from black to white. Grayscale images are often used in applications where color information is not necessary, such as medical imaging or document scanning.\n",
    "\n",
    "* **Color Images**: Color images consist of pixels with color information. The color can be represented in different color spaces, such as RGB (Red, Green, Blue), CMYK (Cyan, Magenta, Yellow, Black), or HSV (Hue, Saturation, Value). Color images are widely used in photography, digital art, and multimedia applications.\n",
    "\n",
    "* **Indexed Color Images**: These images use a limited color palette or color lookup table (CLUT) to represent the colors in the image. Each pixel value corresponds to an index in the color palette, allowing efficient storage of images with fewer colors. Indexed color images are commonly used in GIF and PNG formats.\n",
    "\n",
    "* **Binary Images**: Binary images consist of pixels that are either black or white (or 0 and 1). They are often used in applications such as image segmentation, object detection, and morphological operations."
   ]
  },
  {
   "cell_type": "markdown",
   "id": "e58f1cc5",
   "metadata": {},
   "source": [
    "<div class=\"header\" style=\"\n",
    "    padding: 10px;\n",
    "    background: black;\">\n",
    "    <h3 style=\"font-family:Copperplate, Sans-serif, Arial;\n",
    "               font-size:15px;\n",
    "               font-style:bold;\n",
    "               color:white;\">\n",
    "        Grayscale\n",
    "    </h3>\n",
    "</div>\n",
    "\n",
    "***\n",
    "Grayscale images are digital images where each pixel is represented by a single intensity value, typically ranging from 0 (black) to 255 (white) in an 8-bit grayscale image. These images contain shades of gray that represent different levels of brightness or darkness."
   ]
  },
  {
   "cell_type": "code",
   "execution_count": 8,
   "id": "c77df5da",
   "metadata": {
    "ExecuteTime": {
     "end_time": "2023-06-18T09:53:17.628826Z",
     "start_time": "2023-06-18T09:53:17.297629Z"
    },
    "scrolled": false
   },
   "outputs": [
    {
     "data": {
      "text/html": [
       "<img src=\"figures/figure4.png\" alt=\"plots\"style=\"display:block; margin-left:auto;margin-right:auto;width:100%;\">"
      ],
      "text/plain": [
       "<IPython.core.display.HTML object>"
      ]
     },
     "metadata": {},
     "output_type": "display_data"
    },
    {
     "data": {
      "text/html": [
       "\n",
       "            <center style=\"font-size:14px;\n",
       "                      font-style:default;\">\n",
       "            <b>Figure 4.</b> Grayscaled Image.\n",
       "            </center>\n",
       "            <center style=\"font-size:12px;\"><i>\n",
       "            .\n",
       "            </i></center>\n",
       "            "
      ],
      "text/plain": [
       "<IPython.core.display.HTML object>"
      ]
     },
     "metadata": {},
     "output_type": "display_data"
    }
   ],
   "source": [
    "fig, ax = plt.subplots(figsize=(15,8))\n",
    "imshow(rgb2gray(image[:,:,:3]))\n",
    "ax.axis('off')\n",
    "toc.add_fig('Grayscaled Image', width=100)"
   ]
  },
  {
   "cell_type": "markdown",
   "id": "e13d634a",
   "metadata": {},
   "source": [
    "<div class=\"header\" style=\"\n",
    "    padding: 10px;\n",
    "    background: black;\">\n",
    "    <h3 style=\"font-family:Copperplate, Sans-serif, Arial;\n",
    "               font-size:15px;\n",
    "               font-style:bold;\n",
    "               color:white;\">\n",
    "        RGB Color Space\n",
    "    </h3>\n",
    "</div>\n",
    "\n",
    "***\n",
    "RGB is the most common color model used to represent color images on electronic displays, such as computer monitors and televisions. In this model, each pixel in an image is represented by three color channels: red, green, and blue. The intensity values of these channels range from 0 (minimum intensity) to 255 (maximum intensity) in an 8-bit representation. By combining different intensities of red, green, and blue, it is possible to create various colors."
   ]
  },
  {
   "cell_type": "code",
   "execution_count": 9,
   "id": "5d5c3e50",
   "metadata": {
    "ExecuteTime": {
     "end_time": "2023-06-18T09:53:17.636675Z",
     "start_time": "2023-06-18T09:53:17.631230Z"
    },
    "scrolled": true
   },
   "outputs": [],
   "source": [
    "def plot_rgb(image):\n",
    "    \"\"\"Plot image in different rgb channels\"\"\"\n",
    "    cmaps = ['Reds', 'Greens', 'Blues']\n",
    "    fig, ax = plt.subplots(1, len(cmaps), figsize=(15, 15/len(cmaps)))\n",
    "    for i, cmap in enumerate(cmaps):\n",
    "        ax[i].imshow(image[:,:,i], cmap=cmap)\n",
    "        ax[i].set_title(f'{cmap[:-1]} Channel')\n",
    "        ax[i].axis('off')\n",
    "    toc.add_fig('Example of RGB Channels', width=100)"
   ]
  },
  {
   "cell_type": "code",
   "execution_count": 10,
   "id": "b32e1205",
   "metadata": {
    "ExecuteTime": {
     "end_time": "2023-06-18T09:53:18.057158Z",
     "start_time": "2023-06-18T09:53:17.639989Z"
    },
    "scrolled": false
   },
   "outputs": [
    {
     "data": {
      "text/html": [
       "<img src=\"figures/figure5.png\" alt=\"plots\"style=\"display:block; margin-left:auto;margin-right:auto;width:100%;\">"
      ],
      "text/plain": [
       "<IPython.core.display.HTML object>"
      ]
     },
     "metadata": {},
     "output_type": "display_data"
    },
    {
     "data": {
      "text/html": [
       "\n",
       "            <center style=\"font-size:14px;\n",
       "                      font-style:default;\">\n",
       "            <b>Figure 5.</b> Example of RGB Channels.\n",
       "            </center>\n",
       "            <center style=\"font-size:12px;\"><i>\n",
       "            .\n",
       "            </i></center>\n",
       "            "
      ],
      "text/plain": [
       "<IPython.core.display.HTML object>"
      ]
     },
     "metadata": {},
     "output_type": "display_data"
    }
   ],
   "source": [
    "plot_rgb(image)"
   ]
  },
  {
   "cell_type": "markdown",
   "id": "2dd9efab",
   "metadata": {},
   "source": [
    "<div class=\"header\" style=\"\n",
    "    padding: 10px;\n",
    "    background: black;\">\n",
    "    <h3 style=\"font-family:Copperplate, Sans-serif, Arial;\n",
    "               font-size:15px;\n",
    "               font-style:bold;\n",
    "               color:white;\">\n",
    "        HSV Color Space\n",
    "    </h3>\n",
    "</div>\n",
    "\n",
    "***\n",
    "It is a color model that represents colors based on three components: Hue, Saturation, and Value. \n",
    " \n",
    "Hue refers to the pure color component of a color. It represents the dominant wavelength of light and is often described in terms of common color names such as red, blue, or green. \n",
    " \n",
    "Saturation represents the intensity or purity of a color. It refers to the amount of gray added to the hue. Saturation is typically represented as a percentage, ranging from 0% (completely desaturated, grayscale) to 100% (fully saturated).\n",
    "\n",
    "Value represents the brightness or lightness of a color. It determines how light or dark a color appears. Higher value values correspond to brighter colors, while lower value values correspond to darker colors."
   ]
  },
  {
   "cell_type": "code",
   "execution_count": 11,
   "id": "dbe40e0f",
   "metadata": {
    "ExecuteTime": {
     "end_time": "2023-06-18T09:53:18.065181Z",
     "start_time": "2023-06-18T09:53:18.059450Z"
    },
    "scrolled": true
   },
   "outputs": [],
   "source": [
    "def plot_hsv(image):\n",
    "    \"\"\"Plot image in different rgb channels\"\"\"\n",
    "    image = rgb2hsv(image[:,:,:3])\n",
    "    cmaps = ['hsv', 'gray', 'gray']\n",
    "    titles = ['Hue', 'Saturation', 'Value']\n",
    "    fig, ax = plt.subplots(1, len(cmaps), figsize=(15, 15/len(cmaps)))\n",
    "    for i, cmap in enumerate(cmaps):\n",
    "        ax[i].imshow(image[:,:,i], cmap=cmap)\n",
    "        ax[i].set_title(f'{titles[i]}')\n",
    "        ax[i].axis('off')\n",
    "    toc.add_fig('Example of HSV', width=100)"
   ]
  },
  {
   "cell_type": "code",
   "execution_count": 12,
   "id": "3b5a0e31",
   "metadata": {
    "ExecuteTime": {
     "end_time": "2023-06-18T09:53:18.703589Z",
     "start_time": "2023-06-18T09:53:18.068073Z"
    },
    "scrolled": false
   },
   "outputs": [
    {
     "data": {
      "text/html": [
       "<img src=\"figures/figure6.png\" alt=\"plots\"style=\"display:block; margin-left:auto;margin-right:auto;width:100%;\">"
      ],
      "text/plain": [
       "<IPython.core.display.HTML object>"
      ]
     },
     "metadata": {},
     "output_type": "display_data"
    },
    {
     "data": {
      "text/html": [
       "\n",
       "            <center style=\"font-size:14px;\n",
       "                      font-style:default;\">\n",
       "            <b>Figure 6.</b> Example of HSV.\n",
       "            </center>\n",
       "            <center style=\"font-size:12px;\"><i>\n",
       "            .\n",
       "            </i></center>\n",
       "            "
      ],
      "text/plain": [
       "<IPython.core.display.HTML object>"
      ]
     },
     "metadata": {},
     "output_type": "display_data"
    }
   ],
   "source": [
    "plot_hsv(image)"
   ]
  },
  {
   "cell_type": "markdown",
   "id": "b204f9c4",
   "metadata": {},
   "source": [
    "***\n",
    "<div class=\"header\" style=\"\n",
    "  padding: 20px;\n",
    "  background: black;\">\n",
    "    <h2 style=\"font-family:Copperplate, Sans-serif, Arial;\n",
    "               font-size:30px;\n",
    "               font-style:bold;\n",
    "               color:white;\">\n",
    "        Author's Notes\n",
    "    </h2>\n",
    "</div>\n",
    "\n",
    "***\n",
    "I'm writing this notes upon finishing my journey, I recognize that content of this series are not in-depth but should you, stranger, need a nudge towards the right direction, I sincerely hope these will help. One of key concepts you should familiarize yourself with are the image types. A lot of the methods out there leverages on performing functions on a singular channel or a certain representation. One of the best concepts I have earned from this is the understanding of how RGB values come together to form or represent a color, e.g, Red-colored pixels will have their Red Channel value as the highest, equal RGB values form a shade of white."
   ]
  },
  {
   "cell_type": "markdown",
   "id": "ed22099b",
   "metadata": {
    "ExecuteTime": {
     "end_time": "2023-05-29T01:47:26.422870Z",
     "start_time": "2023-05-29T01:47:25.591605Z"
    }
   },
   "source": [
    "***\n",
    "<div class=\"header\" style=\"\n",
    "  padding: 20px;\n",
    "  background: black;\">\n",
    "    <h2 style=\"font-family:Copperplate, Sans-serif, Arial;\n",
    "               font-size:30px;\n",
    "               font-style:bold;\n",
    "               color:white;\">\n",
    "        References and Acknowledgement\n",
    "    </h2>\n",
    "</div>\n",
    "\n",
    "***\n",
    "The concepts discussed were derived from our MSDS2023 - IIP Course instructed by Benjur Emmanuel L. Borja. ChatGPT was used for concept reviews and writing prompts.\n",
    "\n",
    "[1] Mega Swampert -Mega Evolve Art by Tomycase on DeviantArt. (2014, June 12). DeviantArt. https://www.deviantart.com/tomycase/art/Mega-Swampert-Mega-Evolve-Art-460315184"
   ]
  },
  {
   "cell_type": "code",
   "execution_count": null,
   "id": "1d3d637b",
   "metadata": {},
   "outputs": [],
   "source": []
  }
 ],
 "metadata": {
  "kernelspec": {
   "display_name": "Python 3 (ipykernel)",
   "language": "python",
   "name": "python3"
  },
  "language_info": {
   "codemirror_mode": {
    "name": "ipython",
    "version": 3
   },
   "file_extension": ".py",
   "mimetype": "text/x-python",
   "name": "python",
   "nbconvert_exporter": "python",
   "pygments_lexer": "ipython3",
   "version": "3.10.10"
  },
  "toc": {
   "base_numbering": 1,
   "nav_menu": {},
   "number_sections": true,
   "sideBar": true,
   "skip_h1_title": false,
   "title_cell": "Table of Contents",
   "title_sidebar": "Contents",
   "toc_cell": false,
   "toc_position": {
    "height": "calc(100% - 180px)",
    "left": "10px",
    "top": "150px",
    "width": "186.225px"
   },
   "toc_section_display": true,
   "toc_window_display": true
  }
 },
 "nbformat": 4,
 "nbformat_minor": 5
}
