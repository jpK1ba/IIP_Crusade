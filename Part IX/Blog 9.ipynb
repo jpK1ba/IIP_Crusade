{
 "cells": [
  {
   "cell_type": "markdown",
   "id": "c3b34282",
   "metadata": {},
   "source": [
    "***\n",
    "<div class=\"header\" style=\"\n",
    "  padding: 20px;\n",
    "  background: black;\">\n",
    "    <h1 style=\"font-family:Copperplate, Sans-serif, Arial;\n",
    "               font-size:50px;\n",
    "               font-style:bold;\n",
    "               color:white;\">\n",
    "        Part IX\n",
    "    </h1>\n",
    "    <h2 style=\"font-family:Copperplate, Sans-serif, Arial;\n",
    "               font-size:30px;\n",
    "               font-style:bold;\n",
    "               color:white;\">\n",
    "        Crusader’s Journey in the World of Images Blog Series\n",
    "    </h2>\n",
    "</div>\n",
    "\n",
    "***\n",
    "by : JP Fabrero"
   ]
  },
  {
   "cell_type": "markdown",
   "id": "2adf1acf",
   "metadata": {},
   "source": [
    "***\n",
    "<div class=\"header\" style=\"\n",
    "  padding: 20px;\n",
    "  background: black;\">\n",
    "    <h2 style=\"font-family:Copperplate, Sans-serif, Arial;\n",
    "               font-size:30px;\n",
    "               font-style:bold;\n",
    "               color:white;\">\n",
    "        Importing Libraries\n",
    "    </h2>\n",
    "</div>\n",
    "\n",
    "***"
   ]
  },
  {
   "cell_type": "code",
   "execution_count": 1,
   "id": "e9e1651a",
   "metadata": {
    "ExecuteTime": {
     "end_time": "2023-06-18T09:51:33.593744Z",
     "start_time": "2023-06-18T09:51:31.602423Z"
    }
   },
   "outputs": [
    {
     "name": "stderr",
     "output_type": "stream",
     "text": [
      "Matplotlib created a temporary config/cache directory at /tmp/matplotlib-pr33bfee because the default path (/home/jfabrero/.cache/matplotlib) is not a writable directory; it is highly recommended to set the MPLCONFIGDIR environment variable to a writable directory, in particular to speed up the import of Matplotlib and to better support multiprocessing.\n"
     ]
    }
   ],
   "source": [
    "import os\n",
    "os.environ['SKIMAGE_DATADIR'] = '/tmp/.skimage_cache'\n",
    "\n",
    "import numpy as np\n",
    "import matplotlib.pyplot as plt\n",
    "import matplotlib as mpl\n",
    "\n",
    "import skimage.io as skio\n",
    "from skimage.io import imread, imshow\n",
    "from skimage.color import rgb2gray\n",
    "from skimage.feature import match_template, peak_local_max\n",
    "\n",
    "from pickling import *\n",
    "from pyjanitor import auto_toc\n",
    "toc = auto_toc()"
   ]
  },
  {
   "cell_type": "markdown",
   "id": "669f70d2",
   "metadata": {},
   "source": [
    "***\n",
    "<div class=\"header\" style=\"\n",
    "  padding: 20px;\n",
    "  background: black;\">\n",
    "    <h2 style=\"font-family:Copperplate, Sans-serif, Arial;\n",
    "               font-size:30px;\n",
    "               font-style:bold;\n",
    "               color:white;\">\n",
    "        Preface\n",
    "    </h2>\n",
    "</div>\n",
    "\n",
    "***\n",
    "Candidly, this series of blogs is composed by someone who had little to no care for images, poorly maintained Instagram profile, and passionately believes that moments are best spent living them without distractions. Over the duration of my term here in the MS Data Science program, I’ve to come to appreciate how data comes in all forms - structured and unstructured. Images, an example of unstructured data, unbelievably hold ridiculous amount of information waiting to be inferred. In the name of Data Science, these writings, albeit a course requirement, aim to record my efforts to uncover and learn the ‘hidden’ secrets of processing and mining the treasure troves abundantly present in our generations."
   ]
  },
  {
   "cell_type": "markdown",
   "id": "d1033d1b",
   "metadata": {},
   "source": [
    "***\n",
    "<div class=\"header\" style=\"\n",
    "  padding: 20px;\n",
    "  background: black;\">\n",
    "    <h2 style=\"font-family:Copperplate, Sans-serif, Arial;\n",
    "               font-size:30px;\n",
    "               font-style:bold;\n",
    "               color:white;\">\n",
    "        Template Matching\n",
    "    </h2>\n",
    "</div>\n",
    "\n",
    "***\n",
    "Images, or pictures, are visual representations of objects, scenes, ideas, or functions that are captured, created, compiled, or collected - some common forms are drawings, photographs, graphs, diagrams, and maps.  Two of the common representations of images are digital and analog.\n",
    "\n",
    "The onset of digital era led to a proliferation of digital images. The ability to easily capture and share images with others led to a boom in digital photography and a shift away from analog mediums. Today, digital images are the primary means of capturing, storing, and sharing images, with film-based photography remaining a niche hobby for enthusiasts or market for specific requirements.\n",
    "\n",
    "In the interest of image processing, digital images will be the subject of our focus. \n",
    "\t\n",
    "Digital images are generally constructed as one of two different ways – vector and raster. Vector images are constructed using functions, equations, or lines, and are scalable in terms of rendering. Raster images on the other hand are expressed in pixels with each pixel assigned a value or a set thereof to represent how it’s going to be rendered."
   ]
  },
  {
   "cell_type": "code",
   "execution_count": 2,
   "id": "69248337",
   "metadata": {
    "ExecuteTime": {
     "end_time": "2023-06-18T09:51:34.051159Z",
     "start_time": "2023-06-18T09:51:33.596409Z"
    }
   },
   "outputs": [
    {
     "data": {
      "text/html": [
       "<img src=\"figures/figure1.png\" alt=\"plots\"style=\"display:block; margin-left:auto;margin-right:auto;width:100%;\">"
      ],
      "text/plain": [
       "<IPython.core.display.HTML object>"
      ]
     },
     "metadata": {},
     "output_type": "display_data"
    },
    {
     "data": {
      "text/html": [
       "\n",
       "            <center style=\"font-size:14px;\n",
       "                      font-style:default;\">\n",
       "            <b>Figure 1.</b> Sample Image (Bowling Pins).\n",
       "            </center>\n",
       "            <center style=\"font-size:12px;\"><i>\n",
       "            .\n",
       "            </i></center>\n",
       "            "
      ],
      "text/plain": [
       "<IPython.core.display.HTML object>"
      ]
     },
     "metadata": {},
     "output_type": "display_data"
    }
   ],
   "source": [
    "image = imread('../bowling.png')\n",
    "fig, ax = plt.subplots(figsize=(15,8))\n",
    "imshow(image)\n",
    "ax.axis('off')\n",
    "toc.add_fig('Sample Image (Bowling Pins)', width=100)"
   ]
  },
  {
   "cell_type": "code",
   "execution_count": 13,
   "id": "ef7c64a4",
   "metadata": {
    "ExecuteTime": {
     "end_time": "2023-06-18T09:52:01.955380Z",
     "start_time": "2023-06-18T09:52:01.938580Z"
    }
   },
   "outputs": [],
   "source": [
    "def template_matching(image, template, thresh=0.9):\n",
    "    \"\"\"Perform template matching on image\"\"\"\n",
    "    template_width, template_height = template.shape[:2]\n",
    "    fig, ax = plt.subplots(1, 2, figsize=(15, 8), \n",
    "                       gridspec_kw=dict(width_ratios=(template_width,\n",
    "                                                      image.shape[0])))\n",
    "    ax[0].imshow(template)\n",
    "    ax[0].axis('off')\n",
    "    ax[0].set_title('Template')\n",
    "    \n",
    "    \n",
    "    template = rgb2gray(template)\n",
    "\n",
    "\n",
    "    img_gs = rgb2gray(image[:,:,:3])\n",
    "\n",
    "    result = match_template(img_gs, template)\n",
    "        \n",
    "    rect_counter = 0\n",
    "    for i, (x, y) in enumerate(peak_local_max(result, threshold_abs=thresh)):\n",
    "        rect = plt.Rectangle((y, x),\n",
    "                             template_height,\n",
    "                             template_width,\n",
    "                             color='r', \n",
    "                             linewidth=3,\n",
    "                             fc='none')\n",
    "        rect_counter += 1\n",
    "        ax[1].add_patch(rect);\n",
    "    ax[1].imshow(image)\n",
    "    ax[1].axis('off')\n",
    "    ax[1].set_title(f'Matched Templates: {rect_counter}')\n",
    "    \n",
    "    toc.add_fig('Sample Template Matching', width=100)"
   ]
  },
  {
   "cell_type": "code",
   "execution_count": 14,
   "id": "94f69794",
   "metadata": {
    "ExecuteTime": {
     "end_time": "2023-06-18T09:52:02.631198Z",
     "start_time": "2023-06-18T09:52:02.154718Z"
    },
    "scrolled": false
   },
   "outputs": [
    {
     "data": {
      "text/html": [
       "<img src=\"figures/figure7.png\" alt=\"plots\"style=\"display:block; margin-left:auto;margin-right:auto;width:100%;\">"
      ],
      "text/plain": [
       "<IPython.core.display.HTML object>"
      ]
     },
     "metadata": {},
     "output_type": "display_data"
    },
    {
     "data": {
      "text/html": [
       "\n",
       "            <center style=\"font-size:14px;\n",
       "                      font-style:default;\">\n",
       "            <b>Figure 7.</b> Sample Template Matching.\n",
       "            </center>\n",
       "            <center style=\"font-size:12px;\"><i>\n",
       "            .\n",
       "            </i></center>\n",
       "            "
      ],
      "text/plain": [
       "<IPython.core.display.HTML object>"
      ]
     },
     "metadata": {},
     "output_type": "display_data"
    }
   ],
   "source": [
    "template = image[35:115,50:95,:3]\n",
    "template_matching(image, template, 0.72)"
   ]
  },
  {
   "cell_type": "markdown",
   "id": "4db0bf02",
   "metadata": {},
   "source": [
    "***\n",
    "<div class=\"header\" style=\"\n",
    "  padding: 20px;\n",
    "  background: black;\">\n",
    "    <h2 style=\"font-family:Copperplate, Sans-serif, Arial;\n",
    "               font-size:30px;\n",
    "               font-style:bold;\n",
    "               color:white;\">\n",
    "        Author's Notes\n",
    "    </h2>\n",
    "</div>\n",
    "\n",
    "***\n",
    "Template Matching is a very low effort object detection method when applied correctly. It is one of the methods that are good to try before going all out on DL models. Although this method suffers from invariance limitations, depending on your use case, this can actually prove useful. Case in point, my example above already served as a simple pin counter and it was able to do without training on a large dataset or building up a deep network."
   ]
  },
  {
   "cell_type": "markdown",
   "id": "ed22099b",
   "metadata": {
    "ExecuteTime": {
     "end_time": "2023-05-29T01:47:26.422870Z",
     "start_time": "2023-05-29T01:47:25.591605Z"
    }
   },
   "source": [
    "***\n",
    "<div class=\"header\" style=\"\n",
    "  padding: 20px;\n",
    "  background: black;\">\n",
    "    <h2 style=\"font-family:Copperplate, Sans-serif, Arial;\n",
    "               font-size:30px;\n",
    "               font-style:bold;\n",
    "               color:white;\">\n",
    "        References and Acknowledgement\n",
    "    </h2>\n",
    "</div>\n",
    "\n",
    "***\n",
    "The concepts discussed were derived from our MSDS2023 - IIP Course instructed by Benjur Emmanuel L. Borja. ChatGPT was used for concept reviews and writing prompts.\n",
    "\n",
    "[1] Mega Swampert -Mega Evolve Art by Tomycase on DeviantArt. (2014, June 12). DeviantArt. https://www.deviantart.com/tomycase/art/Mega-Swampert-Mega-Evolve-Art-460315184"
   ]
  }
 ],
 "metadata": {
  "kernelspec": {
   "display_name": "Python 3 (ipykernel)",
   "language": "python",
   "name": "python3"
  },
  "language_info": {
   "codemirror_mode": {
    "name": "ipython",
    "version": 3
   },
   "file_extension": ".py",
   "mimetype": "text/x-python",
   "name": "python",
   "nbconvert_exporter": "python",
   "pygments_lexer": "ipython3",
   "version": "3.10.10"
  },
  "toc": {
   "base_numbering": 1,
   "nav_menu": {},
   "number_sections": true,
   "sideBar": true,
   "skip_h1_title": false,
   "title_cell": "Table of Contents",
   "title_sidebar": "Contents",
   "toc_cell": false,
   "toc_position": {
    "height": "calc(100% - 180px)",
    "left": "10px",
    "top": "150px",
    "width": "186.225px"
   },
   "toc_section_display": true,
   "toc_window_display": true
  }
 },
 "nbformat": 4,
 "nbformat_minor": 5
}
