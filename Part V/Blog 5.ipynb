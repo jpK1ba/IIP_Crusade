{
 "cells": [
  {
   "cell_type": "markdown",
   "id": "c3b34282",
   "metadata": {},
   "source": [
    "***\n",
    "<div class=\"header\" style=\"\n",
    "  padding: 20px;\n",
    "  background: black;\">\n",
    "    <h1 style=\"font-family:Copperplate, Sans-serif, Arial;\n",
    "               font-size:50px;\n",
    "               font-style:bold;\n",
    "               color:white;\">\n",
    "        Part V\n",
    "    </h1>\n",
    "    <h2 style=\"font-family:Copperplate, Sans-serif, Arial;\n",
    "               font-size:30px;\n",
    "               font-style:bold;\n",
    "               color:white;\">\n",
    "        Crusader’s Journey in the World of Images Blog Series\n",
    "    </h2>\n",
    "</div>\n",
    "\n",
    "***\n",
    "by : JP Fabrero"
   ]
  },
  {
   "cell_type": "markdown",
   "id": "2adf1acf",
   "metadata": {},
   "source": [
    "***\n",
    "<div class=\"header\" style=\"\n",
    "  padding: 20px;\n",
    "  background: black;\">\n",
    "    <h2 style=\"font-family:Copperplate, Sans-serif, Arial;\n",
    "               font-size:30px;\n",
    "               font-style:bold;\n",
    "               color:white;\">\n",
    "        Importing Libraries\n",
    "    </h2>\n",
    "</div>\n",
    "\n",
    "***"
   ]
  },
  {
   "cell_type": "code",
   "execution_count": 1,
   "id": "e9e1651a",
   "metadata": {
    "ExecuteTime": {
     "end_time": "2023-06-18T05:16:24.190126Z",
     "start_time": "2023-06-18T05:16:21.907291Z"
    }
   },
   "outputs": [
    {
     "name": "stderr",
     "output_type": "stream",
     "text": [
      "Matplotlib created a temporary config/cache directory at /tmp/matplotlib-pq_lmuz6 because the default path (/home/jfabrero/.cache/matplotlib) is not a writable directory; it is highly recommended to set the MPLCONFIGDIR environment variable to a writable directory, in particular to speed up the import of Matplotlib and to better support multiprocessing.\n"
     ]
    }
   ],
   "source": [
    "import os\n",
    "os.environ['SKIMAGE_DATADIR'] = '/tmp/.skimage_cache'\n",
    "\n",
    "import numpy as np\n",
    "import matplotlib.pyplot as plt\n",
    "import matplotlib as mpl\n",
    "\n",
    "import skimage.io as skio\n",
    "from skimage.io import imread, imshow\n",
    "from skimage.filters import threshold_otsu\n",
    "from skimage.color import rgb2gray\n",
    "from skimage.color import rgb2hsv\n",
    "\n",
    "from pickling import *\n",
    "from pyjanitor import auto_toc\n",
    "toc = auto_toc()"
   ]
  },
  {
   "cell_type": "markdown",
   "id": "669f70d2",
   "metadata": {},
   "source": [
    "***\n",
    "<div class=\"header\" style=\"\n",
    "  padding: 20px;\n",
    "  background: black;\">\n",
    "    <h2 style=\"font-family:Copperplate, Sans-serif, Arial;\n",
    "               font-size:30px;\n",
    "               font-style:bold;\n",
    "               color:white;\">\n",
    "        Preface\n",
    "    </h2>\n",
    "</div>\n",
    "\n",
    "***\n",
    "Now, we leverage on our knowledge about pixel values and explore to utilize them using different methods. Specifically, we're going to use the color values represented in the images to perform image segmentation."
   ]
  },
  {
   "cell_type": "markdown",
   "id": "d1033d1b",
   "metadata": {},
   "source": [
    "***\n",
    "<div class=\"header\" style=\"\n",
    "  padding: 20px;\n",
    "  background: black;\">\n",
    "    <h2 style=\"font-family:Copperplate, Sans-serif, Arial;\n",
    "               font-size:30px;\n",
    "               font-style:bold;\n",
    "               color:white;\">\n",
    "        Thresholding\n",
    "    </h2>\n",
    "</div>\n",
    "\n",
    "***\n",
    "Thresholding is a basic image processing technique used to convert a grayscale or color image into a binary image. It involves comparing the intensity values of pixels in an image to a specified threshold value and assigning them to either one of two classes: foreground or background. If a pixel's intensity value exceeds the threshold, it is assigned to the foreground class; otherwise, it is assigned to the background class."
   ]
  },
  {
   "cell_type": "code",
   "execution_count": 2,
   "id": "69248337",
   "metadata": {
    "ExecuteTime": {
     "end_time": "2023-06-18T05:16:24.760463Z",
     "start_time": "2023-06-18T05:16:24.193559Z"
    }
   },
   "outputs": [
    {
     "data": {
      "text/html": [
       "<img src=\"figures/figure1.png\" alt=\"plots\"style=\"display:block; margin-left:auto;margin-right:auto;width:100%;\">"
      ],
      "text/plain": [
       "<IPython.core.display.HTML object>"
      ]
     },
     "metadata": {},
     "output_type": "display_data"
    },
    {
     "data": {
      "text/html": [
       "\n",
       "            <center style=\"font-size:14px;\n",
       "                      font-style:default;\">\n",
       "            <b>Figure 1.</b> Sample Image (Mega Swampert)[1].\n",
       "            </center>\n",
       "            <center style=\"font-size:12px;\"><i>\n",
       "            .\n",
       "            </i></center>\n",
       "            "
      ],
      "text/plain": [
       "<IPython.core.display.HTML object>"
      ]
     },
     "metadata": {},
     "output_type": "display_data"
    }
   ],
   "source": [
    "image = imread('../mega_swampert.png')\n",
    "fig, ax = plt.subplots(figsize=(15,8))\n",
    "imshow(image)\n",
    "# ax.axis('off')\n",
    "toc.add_fig('Sample Image (Mega Swampert)[1]', width=100)"
   ]
  },
  {
   "cell_type": "markdown",
   "id": "73c3b44e",
   "metadata": {},
   "source": [
    "<div class=\"header\" style=\"\n",
    "    padding: 10px;\n",
    "    background: black;\">\n",
    "    <h3 style=\"font-family:Copperplate, Sans-serif, Arial;\n",
    "               font-size:15px;\n",
    "               font-style:bold;\n",
    "               color:white;\">\n",
    "        Heuristics\n",
    "    </h3>\n",
    "</div>\n",
    "\n",
    "***\n",
    "Some of the most basic ways to perform thresholding is simply set the threshold to 0.5 or the mean value of the image."
   ]
  },
  {
   "cell_type": "code",
   "execution_count": 3,
   "id": "304bb3fe",
   "metadata": {
    "ExecuteTime": {
     "end_time": "2023-06-18T05:16:24.768985Z",
     "start_time": "2023-06-18T05:16:24.763012Z"
    }
   },
   "outputs": [],
   "source": [
    "def plot_thresh(image):\n",
    "    \"\"\"Plot the binarized image\"\"\"\n",
    "    fig, ax = plt.subplots(1, 2, figsize=(15,7))\n",
    "    ax[0].imshow(image > 0.5, 'gray')\n",
    "    ax[0].axis('off')\n",
    "    ax[0].set_title('Threshold = 0.5')\n",
    "    \n",
    "    ax[1].imshow(image > image.mean(), 'gray')\n",
    "    ax[1].axis('off')\n",
    "    ax[1].set_title('Threshold = Mean')\n",
    "    \n",
    "    toc.add_fig('Sample Binarization', width=100)"
   ]
  },
  {
   "cell_type": "code",
   "execution_count": 4,
   "id": "d6ceaca5",
   "metadata": {
    "ExecuteTime": {
     "end_time": "2023-06-18T05:16:25.116337Z",
     "start_time": "2023-06-18T05:16:24.772721Z"
    },
    "scrolled": false
   },
   "outputs": [
    {
     "data": {
      "text/html": [
       "<img src=\"figures/figure2.png\" alt=\"plots\"style=\"display:block; margin-left:auto;margin-right:auto;width:100%;\">"
      ],
      "text/plain": [
       "<IPython.core.display.HTML object>"
      ]
     },
     "metadata": {},
     "output_type": "display_data"
    },
    {
     "data": {
      "text/html": [
       "\n",
       "            <center style=\"font-size:14px;\n",
       "                      font-style:default;\">\n",
       "            <b>Figure 2.</b> Sample Binarization.\n",
       "            </center>\n",
       "            <center style=\"font-size:12px;\"><i>\n",
       "            .\n",
       "            </i></center>\n",
       "            "
      ],
      "text/plain": [
       "<IPython.core.display.HTML object>"
      ]
     },
     "metadata": {},
     "output_type": "display_data"
    }
   ],
   "source": [
    "plot_thresh(rgb2gray(image[:,:,:3]))"
   ]
  },
  {
   "cell_type": "markdown",
   "id": "d6333fa5",
   "metadata": {},
   "source": [
    "<div class=\"header\" style=\"\n",
    "    padding: 10px;\n",
    "    background: black;\">\n",
    "    <h3 style=\"font-family:Copperplate, Sans-serif, Arial;\n",
    "               font-size:15px;\n",
    "               font-style:bold;\n",
    "               color:white;\">\n",
    "        Otsu's Method\n",
    "    </h3>\n",
    "</div>\n",
    "\n",
    "***\n",
    "Otsu's method, also known as Otsu's thresholding or Otsu's algorithm, calculates an optimal threshold value that separates the image into foreground and background based on the histogram of intensity values. Otsu's method maximizes the between-class variance, aiming to minimize the intra-class variance."
   ]
  },
  {
   "cell_type": "code",
   "execution_count": 5,
   "id": "ef7c64a4",
   "metadata": {
    "ExecuteTime": {
     "end_time": "2023-06-18T05:16:25.124486Z",
     "start_time": "2023-06-18T05:16:25.118636Z"
    }
   },
   "outputs": [],
   "source": [
    "def plot_otsu(image):\n",
    "    \"\"\"Plot the binarized image\"\"\"\n",
    "    thresh = threshold_otsu(image)\n",
    "    img_binary = image > thresh\n",
    "    plt.imshow(img_binary, 'gray')\n",
    "    plt.axis('off')\n",
    "    toc.add_fig('Sample Implementation of Otsu\\'s Method')"
   ]
  },
  {
   "cell_type": "code",
   "execution_count": 6,
   "id": "94f69794",
   "metadata": {
    "ExecuteTime": {
     "end_time": "2023-06-18T05:16:25.278509Z",
     "start_time": "2023-06-18T05:16:25.127101Z"
    },
    "scrolled": false
   },
   "outputs": [
    {
     "data": {
      "text/html": [
       "<img src=\"figures/figure3.png\" alt=\"plots\"style=\"display:block; margin-left:auto;margin-right:auto;width:80%;\">"
      ],
      "text/plain": [
       "<IPython.core.display.HTML object>"
      ]
     },
     "metadata": {},
     "output_type": "display_data"
    },
    {
     "data": {
      "text/html": [
       "\n",
       "            <center style=\"font-size:14px;\n",
       "                      font-style:default;\">\n",
       "            <b>Figure 3.</b> Sample Implementation of Otsu's Method.\n",
       "            </center>\n",
       "            <center style=\"font-size:12px;\"><i>\n",
       "            .\n",
       "            </i></center>\n",
       "            "
      ],
      "text/plain": [
       "<IPython.core.display.HTML object>"
      ]
     },
     "metadata": {},
     "output_type": "display_data"
    }
   ],
   "source": [
    "plot_otsu(rgb2gray(image[:,:,:3]))"
   ]
  },
  {
   "cell_type": "markdown",
   "id": "a0ea9d68",
   "metadata": {},
   "source": [
    "***\n",
    "<div class=\"header\" style=\"\n",
    "    padding: 20px;\n",
    "    background: black;\">\n",
    "    <h2 style=\"font-family:Copperplate, Sans-serif, Arial;\n",
    "               font-size:30px;\n",
    "               font-style:bold;\n",
    "               color:white;\">\n",
    "        Color Segmentation\n",
    "    </h2>\n",
    "</div>\n",
    "\n",
    "***\n",
    "Color segmentation involves dividing an image into distinct regions based on the color properties of pixels. It can be performed using various color spaces, such as RGB or HSV, and typically involves defining thresholds or ranges for each color channel to separate different color regions."
   ]
  },
  {
   "cell_type": "markdown",
   "id": "e13d634a",
   "metadata": {},
   "source": [
    "<div class=\"header\" style=\"\n",
    "    padding: 10px;\n",
    "    background: black;\">\n",
    "    <h3 style=\"font-family:Copperplate, Sans-serif, Arial;\n",
    "               font-size:15px;\n",
    "               font-style:bold;\n",
    "               color:white;\">\n",
    "        RGB Color Space\n",
    "    </h3>\n",
    "</div>\n",
    "\n",
    "***\n",
    "RGB is the most common color model used to represent color images on electronic displays, such as computer monitors and televisions. In this model, each pixel in an image is represented by three color channels: red, green, and blue. The intensity values of these channels range from 0 (minimum intensity) to 255 (maximum intensity) in an 8-bit representation. By combining different intensities of red, green, and blue, it is possible to create various colors."
   ]
  },
  {
   "cell_type": "code",
   "execution_count": 7,
   "id": "4477af51",
   "metadata": {
    "ExecuteTime": {
     "end_time": "2023-06-18T05:16:25.291148Z",
     "start_time": "2023-06-18T05:16:25.281455Z"
    }
   },
   "outputs": [],
   "source": [
    "def rgb_blue_segmentation(image):\n",
    "    \"\"\"Perform image segmentation and isolate blue\"\"\"\n",
    "    img_gs = ((np.stack([rgb2gray(image[:,:,:3])] * 3, axis=-1) * 600)\n",
    "              .astype('int').clip(0, 255))\n",
    "    \n",
    "    blue_mask = (\n",
    "        (image[:, :, 2] - np.maximum(image[:, :, 0], image[:, :, 1]) > 20)\n",
    "        & (np.argmax(image[:,:,:3], 2) == 2)\n",
    "    )\n",
    "    \n",
    "    img_blue = img_gs.copy()\n",
    "    img_blue[blue_mask] = image[:,:,:3][blue_mask]\n",
    "    \n",
    "    fig, ax = plt.subplots(1, 3, figsize=(15, 6))\n",
    "    ax[0].imshow(img_gs)\n",
    "    ax[0].axis('off')\n",
    "    ax[0].set_title('Grayscaled Image')\n",
    "    \n",
    "    ax[1].imshow(image[:,:,2], 'Blues')\n",
    "    ax[1].axis('off')\n",
    "    ax[1].set_title('Blue Channel')\n",
    "    \n",
    "    ax[2].imshow(img_blue)\n",
    "    ax[2].axis('off')\n",
    "    ax[2].set_title('Blue Segmented Image w/ Grayscale')\n",
    "    \n",
    "    toc.add_fig('Color Segmentation in RGB Space (Blue)', width=100)"
   ]
  },
  {
   "cell_type": "code",
   "execution_count": 8,
   "id": "9fac9387",
   "metadata": {
    "ExecuteTime": {
     "end_time": "2023-06-18T05:16:25.778824Z",
     "start_time": "2023-06-18T05:16:25.293965Z"
    },
    "scrolled": false
   },
   "outputs": [
    {
     "data": {
      "text/html": [
       "<img src=\"figures/figure4.png\" alt=\"plots\"style=\"display:block; margin-left:auto;margin-right:auto;width:100%;\">"
      ],
      "text/plain": [
       "<IPython.core.display.HTML object>"
      ]
     },
     "metadata": {},
     "output_type": "display_data"
    },
    {
     "data": {
      "text/html": [
       "\n",
       "            <center style=\"font-size:14px;\n",
       "                      font-style:default;\">\n",
       "            <b>Figure 4.</b> Color Segmentation in RGB Space (Blue).\n",
       "            </center>\n",
       "            <center style=\"font-size:12px;\"><i>\n",
       "            .\n",
       "            </i></center>\n",
       "            "
      ],
      "text/plain": [
       "<IPython.core.display.HTML object>"
      ]
     },
     "metadata": {},
     "output_type": "display_data"
    }
   ],
   "source": [
    "rgb_blue_segmentation(image)"
   ]
  },
  {
   "cell_type": "markdown",
   "id": "2dd9efab",
   "metadata": {},
   "source": [
    "<div class=\"header\" style=\"\n",
    "    padding: 10px;\n",
    "    background: black;\">\n",
    "    <h3 style=\"font-family:Copperplate, Sans-serif, Arial;\n",
    "               font-size:15px;\n",
    "               font-style:bold;\n",
    "               color:white;\">\n",
    "        HSV Color Space\n",
    "    </h3>\n",
    "</div>\n",
    "\n",
    "***\n",
    "It is a color model that represents colors based on three components: Hue, Saturation, and Value. \n",
    " \n",
    "Hue refers to the pure color component of a color. It represents the dominant wavelength of light and is often described in terms of common color names such as red, blue, or green. \n",
    " \n",
    "Saturation represents the intensity or purity of a color. It refers to the amount of gray added to the hue. Saturation is typically represented as a percentage, ranging from 0% (completely desaturated, grayscale) to 100% (fully saturated).\n",
    "\n",
    "Value represents the brightness or lightness of a color. It determines how light or dark a color appears. Higher value values correspond to brighter colors, while lower value values correspond to darker colors."
   ]
  },
  {
   "cell_type": "code",
   "execution_count": 9,
   "id": "dbe40e0f",
   "metadata": {
    "ExecuteTime": {
     "end_time": "2023-06-18T05:16:25.790586Z",
     "start_time": "2023-06-18T05:16:25.781521Z"
    },
    "scrolled": true
   },
   "outputs": [],
   "source": [
    "def hsv_blue_segmentation(image):\n",
    "    \"\"\"Perform image segmentation and isolate blue\"\"\"\n",
    "    img_gs = ((np.stack([rgb2gray(image[:,:,:3])] * 3, axis=-1) * 600)\n",
    "              .astype('int').clip(0, 255))\n",
    "    \n",
    "    img_hsv = rgb2hsv(image[:,:,:3])\n",
    "    \n",
    "    lower_mask = img_hsv[:, :, 0] > 0.50\n",
    "    upper_mask = img_hsv[:, :, 0] < 0.75\n",
    "    blue_mask = lower_mask * upper_mask\n",
    "    \n",
    "    img_blue = img_gs.copy()\n",
    "    img_blue[blue_mask] = image[:,:,:3][blue_mask]\n",
    "    \n",
    "    fig, ax = plt.subplots(1, 3, figsize=(15, 6))\n",
    "    ax[0].imshow(img_gs)\n",
    "    ax[0].axis('off')\n",
    "    ax[0].set_title('Grayscaled Image')\n",
    "    \n",
    "    ax[1].imshow(img_hsv[:,:,0], 'hsv')\n",
    "    ax[1].axis('off')\n",
    "    ax[1].set_title('Hue Channel')\n",
    "    \n",
    "    ax[2].imshow(img_blue)\n",
    "    ax[2].axis('off')\n",
    "    ax[2].set_title('Blue Segmented Image w/ Grayscale')\n",
    "    \n",
    "    toc.add_fig('Color Segmentation in HSV Space (Blue)', width=100)"
   ]
  },
  {
   "cell_type": "code",
   "execution_count": 10,
   "id": "3b5a0e31",
   "metadata": {
    "ExecuteTime": {
     "end_time": "2023-06-18T05:16:26.520756Z",
     "start_time": "2023-06-18T05:16:25.794522Z"
    },
    "scrolled": false
   },
   "outputs": [
    {
     "data": {
      "text/html": [
       "<img src=\"figures/figure5.png\" alt=\"plots\"style=\"display:block; margin-left:auto;margin-right:auto;width:100%;\">"
      ],
      "text/plain": [
       "<IPython.core.display.HTML object>"
      ]
     },
     "metadata": {},
     "output_type": "display_data"
    },
    {
     "data": {
      "text/html": [
       "\n",
       "            <center style=\"font-size:14px;\n",
       "                      font-style:default;\">\n",
       "            <b>Figure 5.</b> Color Segmentation in HSV Space (Blue).\n",
       "            </center>\n",
       "            <center style=\"font-size:12px;\"><i>\n",
       "            .\n",
       "            </i></center>\n",
       "            "
      ],
      "text/plain": [
       "<IPython.core.display.HTML object>"
      ]
     },
     "metadata": {},
     "output_type": "display_data"
    }
   ],
   "source": [
    "hsv_blue_segmentation(image)"
   ]
  },
  {
   "cell_type": "markdown",
   "id": "a9dabd9f",
   "metadata": {},
   "source": [
    "***\n",
    "<div class=\"header\" style=\"\n",
    "  padding: 20px;\n",
    "  background: black;\">\n",
    "    <h2 style=\"font-family:Copperplate, Sans-serif, Arial;\n",
    "               font-size:30px;\n",
    "               font-style:bold;\n",
    "               color:white;\">\n",
    "        Author's Notes\n",
    "    </h2>\n",
    "</div>\n",
    "\n",
    "***\n",
    "Thresholding is perhaps the most universal and basic method but building up your knowledge or intuition of setting the thresholds is of utmost importance. Color segmentation opens up a lot of applications across different requirements. In this concept, what really helped was my understanding of the RGB color space. If you will notice, the RGB blue mask was done simply by making sure that the Blue Channel has the highest value and that it greater than a set amount. No need to iterate different values for Red and Green Channels. Make it a practice to integrate your learnings."
   ]
  },
  {
   "cell_type": "markdown",
   "id": "ed22099b",
   "metadata": {
    "ExecuteTime": {
     "end_time": "2023-05-29T01:47:26.422870Z",
     "start_time": "2023-05-29T01:47:25.591605Z"
    }
   },
   "source": [
    "***\n",
    "<div class=\"header\" style=\"\n",
    "  padding: 20px;\n",
    "  background: black;\">\n",
    "    <h2 style=\"font-family:Copperplate, Sans-serif, Arial;\n",
    "               font-size:30px;\n",
    "               font-style:bold;\n",
    "               color:white;\">\n",
    "        References and Acknowledgement\n",
    "    </h2>\n",
    "</div>\n",
    "\n",
    "***\n",
    "The concepts discussed were derived from our MSDS2023 - IIP Course. ChatGPT was used for concept reviews and writing prompts.\n",
    "\n",
    "[1] Mega Swampert -Mega Evolve Art by Tomycase on DeviantArt. (2014, June 12). DeviantArt. https://www.deviantart.com/tomycase/art/Mega-Swampert-Mega-Evolve-Art-460315184"
   ]
  }
 ],
 "metadata": {
  "kernelspec": {
   "display_name": "Python 3 (ipykernel)",
   "language": "python",
   "name": "python3"
  },
  "language_info": {
   "codemirror_mode": {
    "name": "ipython",
    "version": 3
   },
   "file_extension": ".py",
   "mimetype": "text/x-python",
   "name": "python",
   "nbconvert_exporter": "python",
   "pygments_lexer": "ipython3",
   "version": "3.10.10"
  },
  "toc": {
   "base_numbering": 1,
   "nav_menu": {},
   "number_sections": true,
   "sideBar": true,
   "skip_h1_title": false,
   "title_cell": "Table of Contents",
   "title_sidebar": "Contents",
   "toc_cell": false,
   "toc_position": {
    "height": "calc(100% - 180px)",
    "left": "10px",
    "top": "150px",
    "width": "186.225px"
   },
   "toc_section_display": true,
   "toc_window_display": true
  }
 },
 "nbformat": 4,
 "nbformat_minor": 5
}
