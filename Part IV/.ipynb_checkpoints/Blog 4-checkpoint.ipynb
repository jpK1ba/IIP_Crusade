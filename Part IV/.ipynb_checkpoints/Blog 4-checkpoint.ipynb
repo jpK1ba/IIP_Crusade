{
 "cells": [
  {
   "cell_type": "markdown",
   "id": "c3b34282",
   "metadata": {},
   "source": [
    "***\n",
    "<div class=\"header\" style=\"\n",
    "  padding: 20px;\n",
    "  background: black;\">\n",
    "    <h1 style=\"font-family:Copperplate, Sans-serif, Arial;\n",
    "               font-size:50px;\n",
    "               font-style:bold;\n",
    "               color:white;\">\n",
    "        Part IV\n",
    "    </h1>\n",
    "    <h2 style=\"font-family:Copperplate, Sans-serif, Arial;\n",
    "               font-size:30px;\n",
    "               font-style:bold;\n",
    "               color:white;\">\n",
    "        Crusader’s Journey in the World of Images Blog Series\n",
    "    </h2>\n",
    "</div>\n",
    "\n",
    "***\n",
    "by : JP Fabrero"
   ]
  },
  {
   "cell_type": "markdown",
   "id": "2adf1acf",
   "metadata": {},
   "source": [
    "***\n",
    "<div class=\"header\" style=\"\n",
    "  padding: 20px;\n",
    "  background: black;\">\n",
    "    <h2 style=\"font-family:Copperplate, Sans-serif, Arial;\n",
    "               font-size:30px;\n",
    "               font-style:bold;\n",
    "               color:white;\">\n",
    "        Importing Libraries\n",
    "    </h2>\n",
    "</div>\n",
    "\n",
    "***"
   ]
  },
  {
   "cell_type": "code",
   "execution_count": 1,
   "id": "e9e1651a",
   "metadata": {
    "ExecuteTime": {
     "end_time": "2023-06-18T03:44:04.584394Z",
     "start_time": "2023-06-18T03:44:02.621011Z"
    }
   },
   "outputs": [
    {
     "name": "stderr",
     "output_type": "stream",
     "text": [
      "Matplotlib created a temporary config/cache directory at /tmp/matplotlib-eanl85j_ because the default path (/home/jfabrero/.cache/matplotlib) is not a writable directory; it is highly recommended to set the MPLCONFIGDIR environment variable to a writable directory, in particular to speed up the import of Matplotlib and to better support multiprocessing.\n"
     ]
    }
   ],
   "source": [
    "import os\n",
    "os.environ['SKIMAGE_DATADIR'] = '/tmp/.skimage_cache'\n",
    "\n",
    "import numpy as np\n",
    "import matplotlib.pyplot as plt\n",
    "import matplotlib as mpl\n",
    "\n",
    "import skimage.io as skio\n",
    "from skimage.io import imread, imshow\n",
    "from skimage.color import rgb2gray\n",
    "from skimage.feature import blob_dog, blob_log, blob_doh\n",
    "from math import sqrt\n",
    "from skimage.morphology import erosion, dilation, opening, closing\n",
    "from skimage.measure import label, regionprops\n",
    "from skimage.color import label2rgb\n",
    "\n",
    "import pandas as pd\n",
    "\n",
    "from pickling import *\n",
    "from pyjanitor import auto_toc\n",
    "toc = auto_toc()"
   ]
  },
  {
   "cell_type": "markdown",
   "id": "669f70d2",
   "metadata": {},
   "source": [
    "***\n",
    "<div class=\"header\" style=\"\n",
    "  padding: 20px;\n",
    "  background: black;\">\n",
    "    <h2 style=\"font-family:Copperplate, Sans-serif, Arial;\n",
    "               font-size:30px;\n",
    "               font-style:bold;\n",
    "               color:white;\">\n",
    "        Preface\n",
    "    </h2>\n",
    "</div>\n",
    "\n",
    "***\n",
    "In part of the journey, we learn about different methods for detecting blobs or circular objects present in the image. We'll also introduce a useful class for extracting features from objects."
   ]
  },
  {
   "cell_type": "markdown",
   "id": "d1033d1b",
   "metadata": {},
   "source": [
    "***\n",
    "<div class=\"header\" style=\"\n",
    "  padding: 20px;\n",
    "  background: black;\">\n",
    "    <h2 style=\"font-family:Copperplate, Sans-serif, Arial;\n",
    "               font-size:30px;\n",
    "               font-style:bold;\n",
    "               color:white;\">\n",
    "        Blob Detection\n",
    "    </h2>\n",
    "</div>\n",
    "\n",
    "***\n",
    "Blob originally refers to a globule or drop a thick, liquid substance, i.e., paint. In this phase, we have the assumption that our objects are cicular in nature and use different algorithms that account for such notion."
   ]
  },
  {
   "cell_type": "code",
   "execution_count": 2,
   "id": "69248337",
   "metadata": {
    "ExecuteTime": {
     "end_time": "2023-06-18T03:44:04.878550Z",
     "start_time": "2023-06-18T03:44:04.588431Z"
    }
   },
   "outputs": [
    {
     "data": {
      "text/html": [
       "<img src=\"figures/figure1.png\" alt=\"plots\"style=\"display:block; margin-left:auto;margin-right:auto;width:100%;\">"
      ],
      "text/plain": [
       "<IPython.core.display.HTML object>"
      ]
     },
     "metadata": {},
     "output_type": "display_data"
    },
    {
     "data": {
      "text/html": [
       "\n",
       "            <center style=\"font-size:14px;\n",
       "                      font-style:default;\">\n",
       "            <b>Figure 1.</b> Sample Image (Blobs).\n",
       "            </center>\n",
       "            <center style=\"font-size:12px;\"><i>\n",
       "            .\n",
       "            </i></center>\n",
       "            "
      ],
      "text/plain": [
       "<IPython.core.display.HTML object>"
      ]
     },
     "metadata": {},
     "output_type": "display_data"
    }
   ],
   "source": [
    "image = rgb2gray(imread('../blobs.png'))\n",
    "im_mask = image < 0.5\n",
    "image = image > 0.5\n",
    "\n",
    "fig, ax = plt.subplots(figsize=(15,8))\n",
    "imshow(image)\n",
    "ax.axis('off')\n",
    "toc.add_fig('Sample Image (Blobs)', width=100)"
   ]
  },
  {
   "cell_type": "markdown",
   "id": "e58f1cc5",
   "metadata": {},
   "source": [
    "<div class=\"header\" style=\"\n",
    "    padding: 10px;\n",
    "    background: black;\">\n",
    "    <h3 style=\"font-family:Copperplate, Sans-serif, Arial;\n",
    "               font-size:15px;\n",
    "               font-style:bold;\n",
    "               color:white;\">\n",
    "        Laplacian of Gaussian (LoG)\n",
    "    </h3>\n",
    "</div>\n",
    "\n",
    "***\n",
    "The Laplacian of Gaussian (LoG) combines two important operations: the Laplacian operator and the Gaussian smoothing filter. The Gaussian filter helps to reduce noise, blur the image slightly and smooths out variations in intensity. The Laplacian operator is a second-order differential operator that measures the rate of change of the image intensity. It is often used for edge detection because it highlights areas of rapid intensity changes, such as edges or boundaries between objects. The LoG operator is commonly used in computer vision applications such as image segmentation, object detection, and feature extraction."
   ]
  },
  {
   "cell_type": "code",
   "execution_count": 3,
   "id": "58b0d75d",
   "metadata": {
    "ExecuteTime": {
     "end_time": "2023-06-18T03:44:04.888188Z",
     "start_time": "2023-06-18T03:44:04.880500Z"
    }
   },
   "outputs": [],
   "source": [
    "def plot_log(image, im_mask):\n",
    "    \"\"\"Plot downsamples in different Ns\"\"\"\n",
    "    blobs = blob_log(im_mask,\n",
    "                     max_sigma=30,\n",
    "                     num_sigma=10,\n",
    "                     threshold=0.1)\n",
    "\n",
    "    fig, ax = plt.subplots()\n",
    "    ax.imshow(image, 'gray')\n",
    "    for blob in blobs:\n",
    "        y, x, area = blob\n",
    "        ax.add_patch(plt.Circle((x, y),\n",
    "                                area*np.sqrt(2),\n",
    "                                color='r', \n",
    "                                linewidth=2,\n",
    "                                fill=False))\n",
    "    ax.axis('off')\n",
    "    toc.add_fig('Sample of Laplacian of Gaussian')"
   ]
  },
  {
   "cell_type": "code",
   "execution_count": 4,
   "id": "9d5d80d5",
   "metadata": {
    "ExecuteTime": {
     "end_time": "2023-06-18T03:44:22.700031Z",
     "start_time": "2023-06-18T03:44:04.891866Z"
    }
   },
   "outputs": [
    {
     "data": {
      "text/html": [
       "<img src=\"figures/figure2.png\" alt=\"plots\"style=\"display:block; margin-left:auto;margin-right:auto;width:80%;\">"
      ],
      "text/plain": [
       "<IPython.core.display.HTML object>"
      ]
     },
     "metadata": {},
     "output_type": "display_data"
    },
    {
     "data": {
      "text/html": [
       "\n",
       "            <center style=\"font-size:14px;\n",
       "                      font-style:default;\">\n",
       "            <b>Figure 2.</b> Sample of Laplacian of Gaussian.\n",
       "            </center>\n",
       "            <center style=\"font-size:12px;\"><i>\n",
       "            .\n",
       "            </i></center>\n",
       "            "
      ],
      "text/plain": [
       "<IPython.core.display.HTML object>"
      ]
     },
     "metadata": {},
     "output_type": "display_data"
    }
   ],
   "source": [
    "plot_log(image, im_mask)"
   ]
  },
  {
   "cell_type": "markdown",
   "id": "6531dc30",
   "metadata": {},
   "source": [
    "<div class=\"header\" style=\"\n",
    "    padding: 10px;\n",
    "    background: black;\">\n",
    "    <h3 style=\"font-family:Copperplate, Sans-serif, Arial;\n",
    "               font-size:15px;\n",
    "               font-style:bold;\n",
    "               color:white;\">\n",
    "        Difference of Gaussian (LoG)\n",
    "    </h3>\n",
    "</div>\n",
    "\n",
    "***\n",
    "The Difference of Gaussian (DoG) involves subtracting two Gaussian-smoothed versions of an image to highlight regions of interest. It is based on the concept that the difference between the responses of Gaussian filters at different scales can enhance edges and texture variations in the image."
   ]
  },
  {
   "cell_type": "code",
   "execution_count": 5,
   "id": "f997024a",
   "metadata": {
    "ExecuteTime": {
     "end_time": "2023-06-18T03:44:22.709234Z",
     "start_time": "2023-06-18T03:44:22.702426Z"
    }
   },
   "outputs": [],
   "source": [
    "def plot_dog(image, im_mask):\n",
    "    \"\"\"Plot downsamples in different Ns\"\"\"\n",
    "    blobs = blob_dog(im_mask, max_sigma=30, threshold=.1)\n",
    "\n",
    "    fig, ax = plt.subplots()\n",
    "    ax.imshow(image, 'gray')\n",
    "    for blob in blobs:\n",
    "        y, x, area = blob\n",
    "        ax.add_patch(plt.Circle((x, y),\n",
    "                                area*np.sqrt(2),\n",
    "                                color='g', \n",
    "                                linewidth=2,\n",
    "                                fill=False))\n",
    "    ax.axis('off')\n",
    "    toc.add_fig('Sample of Difference of Gaussian')"
   ]
  },
  {
   "cell_type": "code",
   "execution_count": 6,
   "id": "1f2bf3de",
   "metadata": {
    "ExecuteTime": {
     "end_time": "2023-06-18T03:44:34.558024Z",
     "start_time": "2023-06-18T03:44:22.713267Z"
    },
    "scrolled": false
   },
   "outputs": [
    {
     "data": {
      "text/html": [
       "<img src=\"figures/figure3.png\" alt=\"plots\"style=\"display:block; margin-left:auto;margin-right:auto;width:80%;\">"
      ],
      "text/plain": [
       "<IPython.core.display.HTML object>"
      ]
     },
     "metadata": {},
     "output_type": "display_data"
    },
    {
     "data": {
      "text/html": [
       "\n",
       "            <center style=\"font-size:14px;\n",
       "                      font-style:default;\">\n",
       "            <b>Figure 3.</b> Sample of Difference of Gaussian.\n",
       "            </center>\n",
       "            <center style=\"font-size:12px;\"><i>\n",
       "            .\n",
       "            </i></center>\n",
       "            "
      ],
      "text/plain": [
       "<IPython.core.display.HTML object>"
      ]
     },
     "metadata": {},
     "output_type": "display_data"
    }
   ],
   "source": [
    "plot_dog(image, im_mask)"
   ]
  },
  {
   "cell_type": "markdown",
   "id": "1ad2cad9",
   "metadata": {},
   "source": [
    "<div class=\"header\" style=\"\n",
    "    padding: 10px;\n",
    "    background: black;\">\n",
    "    <h3 style=\"font-family:Copperplate, Sans-serif, Arial;\n",
    "               font-size:15px;\n",
    "               font-style:bold;\n",
    "               color:white;\">\n",
    "        Determinant of Hessian (DoH)\n",
    "    </h3>\n",
    "</div>\n",
    "\n",
    "***\n",
    "The Determinant of Hessian (DoH) computes the determinant of the Hessian matrix, which represents the second-order derivatives of image intensity. The DoH operator is sensitive to regions with significant intensity variations in multiple directions, making it effective in detecting distinctive structures and points of interest in an image"
   ]
  },
  {
   "cell_type": "code",
   "execution_count": 7,
   "id": "e90f23d3",
   "metadata": {
    "ExecuteTime": {
     "end_time": "2023-06-18T03:44:34.566509Z",
     "start_time": "2023-06-18T03:44:34.560251Z"
    }
   },
   "outputs": [],
   "source": [
    "def plot_doh(image, im_mask):\n",
    "    \"\"\"Plot downsamples in different Ns\"\"\"\n",
    "    blobs = blob_doh(im_mask, max_sigma=30, threshold=.01)\n",
    "\n",
    "    fig, ax = plt.subplots()\n",
    "    ax.imshow(image, 'gray')\n",
    "    for blob in blobs:\n",
    "        y, x, r = blob\n",
    "        ax.add_patch(plt.Circle((x, y),\n",
    "                                r,\n",
    "                                color='b',\n",
    "                                linewidth=2,\n",
    "                                fill=False))\n",
    "    ax.axis('off')\n",
    "    toc.add_fig('Sample of Determinant of Hessian')"
   ]
  },
  {
   "cell_type": "code",
   "execution_count": 8,
   "id": "f08fa603",
   "metadata": {
    "ExecuteTime": {
     "end_time": "2023-06-18T03:45:08.746576Z",
     "start_time": "2023-06-18T03:44:34.568582Z"
    },
    "scrolled": false
   },
   "outputs": [
    {
     "data": {
      "text/html": [
       "<img src=\"figures/figure4.png\" alt=\"plots\"style=\"display:block; margin-left:auto;margin-right:auto;width:80%;\">"
      ],
      "text/plain": [
       "<IPython.core.display.HTML object>"
      ]
     },
     "metadata": {},
     "output_type": "display_data"
    },
    {
     "data": {
      "text/html": [
       "\n",
       "            <center style=\"font-size:14px;\n",
       "                      font-style:default;\">\n",
       "            <b>Figure 4.</b> Sample of Determinant of Hessian.\n",
       "            </center>\n",
       "            <center style=\"font-size:12px;\"><i>\n",
       "            .\n",
       "            </i></center>\n",
       "            "
      ],
      "text/plain": [
       "<IPython.core.display.HTML object>"
      ]
     },
     "metadata": {},
     "output_type": "display_data"
    }
   ],
   "source": [
    "plot_doh(image, im_mask)"
   ]
  },
  {
   "cell_type": "markdown",
   "id": "92de758a",
   "metadata": {},
   "source": [
    "***\n",
    "<div class=\"header\" style=\"\n",
    "    padding: 20px;\n",
    "    background: black;\">\n",
    "    <h2 style=\"font-family:Copperplate, Sans-serif, Arial;\n",
    "               font-size:30px;\n",
    "               font-style:bold;\n",
    "               color:white;\">\n",
    "        Connected Components\n",
    "    </h2>\n",
    "</div>\n",
    "\n",
    "***\n",
    "In the context of image processing, blobs are regarded as connected components or regions of interest which are typically areas of interest that stand out from the surrounding background. It can be characterized by properties such as color, texture, intensity, or shape.\n",
    "\n",
    "With this, we can apply the earlier exercises, Morphological Operations, to make sure we capture the objects are connected components."
   ]
  },
  {
   "cell_type": "code",
   "execution_count": 9,
   "id": "ef7c64a4",
   "metadata": {
    "ExecuteTime": {
     "end_time": "2023-06-18T03:45:08.753929Z",
     "start_time": "2023-06-18T03:45:08.748668Z"
    }
   },
   "outputs": [],
   "source": [
    "def erode(image, selem, n=1):\n",
    "    \"\"\"Perform erosion `n` times\"\"\"\n",
    "    for _ in range(n):\n",
    "        image = erosion(image, selem)\n",
    "    \n",
    "    return image\n",
    "\n",
    "\n",
    "def dilate(image, selem, n=1):\n",
    "    \"\"\"Perform dilation `n` times\"\"\"\n",
    "    for _ in range(n):\n",
    "        image = dilation(image, selem)\n",
    "    \n",
    "    return image\n",
    "\n",
    "\n",
    "def n_open(image, selem, n=1):\n",
    "    \"\"\"Perform opening `n` times\"\"\"\n",
    "    for _ in range(n):\n",
    "        image = opening(image, selem)\n",
    "    \n",
    "    return image\n",
    "\n",
    "\n",
    "def n_close(image, selem, n=1):\n",
    "    \"\"\"Perform closing `n` times\"\"\"\n",
    "    for _ in range(n):\n",
    "        image = closing(image, selem)\n",
    "    \n",
    "    return image"
   ]
  },
  {
   "cell_type": "code",
   "execution_count": 10,
   "id": "94f69794",
   "metadata": {
    "ExecuteTime": {
     "end_time": "2023-06-18T03:45:09.413956Z",
     "start_time": "2023-06-18T03:45:08.757347Z"
    },
    "scrolled": false
   },
   "outputs": [
    {
     "data": {
      "text/html": [
       "<img src=\"figures/figure5.png\" alt=\"plots\"style=\"display:block; margin-left:auto;margin-right:auto;width:100%;\">"
      ],
      "text/plain": [
       "<IPython.core.display.HTML object>"
      ]
     },
     "metadata": {},
     "output_type": "display_data"
    },
    {
     "data": {
      "text/html": [
       "\n",
       "            <center style=\"font-size:14px;\n",
       "                      font-style:default;\">\n",
       "            <b>Figure 5.</b> Connected Components.\n",
       "            </center>\n",
       "            <center style=\"font-size:12px;\"><i>\n",
       "            .\n",
       "            </i></center>\n",
       "            "
      ],
      "text/plain": [
       "<IPython.core.display.HTML object>"
      ]
     },
     "metadata": {},
     "output_type": "display_data"
    }
   ],
   "source": [
    "selem = np.array([[0,1,0],\n",
    "                  [1,1,1],\n",
    "                  [0,1,0]])\n",
    "img_con = erode(dilate(erode(image,selem,10),selem,15),selem,8)\n",
    "fig, ax = plt.subplots(1, 2, figsize=(15, 5))\n",
    "ax[0].imshow(image, 'gray')\n",
    "ax[0].axis('off')\n",
    "ax[1].imshow(img_con, 'gray')\n",
    "ax[1].axis('off')\n",
    "toc.add_fig('Connected Components', width=100)"
   ]
  },
  {
   "cell_type": "markdown",
   "id": "e0c9e1b8",
   "metadata": {},
   "source": [
    "<div class=\"header\" style=\"\n",
    "    padding: 10px;\n",
    "    background: black;\">\n",
    "    <h3 style=\"font-family:Copperplate, Sans-serif, Arial;\n",
    "               font-size:15px;\n",
    "               font-style:bold;\n",
    "               color:white;\">\n",
    "        Label and Region Properties\n",
    "    </h3>\n",
    "</div>\n",
    "\n",
    "***\n",
    "Once the objects or blobs are properly cleaned, `label` and `regionprops` can now be used for extraction of object features."
   ]
  },
  {
   "cell_type": "code",
   "execution_count": 11,
   "id": "e078b24a",
   "metadata": {
    "ExecuteTime": {
     "end_time": "2023-06-18T03:45:09.541619Z",
     "start_time": "2023-06-18T03:45:09.415904Z"
    }
   },
   "outputs": [
    {
     "data": {
      "text/html": [
       "<img src=\"figures/figure6.png\" alt=\"plots\"style=\"display:block; margin-left:auto;margin-right:auto;width:80%;\">"
      ],
      "text/plain": [
       "<IPython.core.display.HTML object>"
      ]
     },
     "metadata": {},
     "output_type": "display_data"
    },
    {
     "data": {
      "text/html": [
       "\n",
       "            <center style=\"font-size:14px;\n",
       "                      font-style:default;\">\n",
       "            <b>Figure 6.</b> Labeled Connected Components.\n",
       "            </center>\n",
       "            <center style=\"font-size:12px;\"><i>\n",
       "            .\n",
       "            </i></center>\n",
       "            "
      ],
      "text/plain": [
       "<IPython.core.display.HTML object>"
      ]
     },
     "metadata": {},
     "output_type": "display_data"
    }
   ],
   "source": [
    "img_label = label(img_con < 0.5)\n",
    "plt.imshow(img_label)\n",
    "plt.axis('off')\n",
    "toc.add_fig('Labeled Connected Components')"
   ]
  },
  {
   "cell_type": "code",
   "execution_count": 12,
   "id": "3e30421f",
   "metadata": {
    "ExecuteTime": {
     "end_time": "2023-06-18T03:45:09.639817Z",
     "start_time": "2023-06-18T03:45:09.543823Z"
    }
   },
   "outputs": [
    {
     "data": {
      "text/html": [
       "<center><style type=\"text/css\">\n",
       "#T_8a84a th.col_heading {\n",
       "  background-color: black;\n",
       "  color: white;\n",
       "  text-align: center;\n",
       "}\n",
       "#T_8a84a td {\n",
       "  background-color: white;\n",
       "  color: black;\n",
       "  text-align: center;\n",
       "}\n",
       "#T_8a84a tr {\n",
       "  border-left: 1px solid black;\n",
       "  border-right: 1px solid black;\n",
       "  border-bottom: 1px solid black;\n",
       "}\n",
       "#T_8a84a td {\n",
       "  border-left: 1px solid black;\n",
       "  border-right: 1px solid black;\n",
       "  border-bottom: 1px solid black;\n",
       "}\n",
       "</style>\n",
       "<table id=\"T_8a84a\">\n",
       "  <thead>\n",
       "    <tr>\n",
       "      <th id=\"T_8a84a_level0_col0\" class=\"col_heading level0 col0\" >centroid_x</th>\n",
       "      <th id=\"T_8a84a_level0_col1\" class=\"col_heading level0 col1\" >centroid_y</th>\n",
       "      <th id=\"T_8a84a_level0_col2\" class=\"col_heading level0 col2\" >perimeter</th>\n",
       "      <th id=\"T_8a84a_level0_col3\" class=\"col_heading level0 col3\" >area</th>\n",
       "      <th id=\"T_8a84a_level0_col4\" class=\"col_heading level0 col4\" >ap_ratio</th>\n",
       "    </tr>\n",
       "  </thead>\n",
       "  <tbody>\n",
       "    <tr>\n",
       "      <td id=\"T_8a84a_row0_col0\" class=\"data row0 col0\" >417.06</td>\n",
       "      <td id=\"T_8a84a_row0_col1\" class=\"data row0 col1\" >110.16</td>\n",
       "      <td id=\"T_8a84a_row0_col2\" class=\"data row0 col2\" >343.95</td>\n",
       "      <td id=\"T_8a84a_row0_col3\" class=\"data row0 col3\" >5607.00</td>\n",
       "      <td id=\"T_8a84a_row0_col4\" class=\"data row0 col4\" >16.30</td>\n",
       "    </tr>\n",
       "    <tr>\n",
       "      <td id=\"T_8a84a_row1_col0\" class=\"data row1 col0\" >711.24</td>\n",
       "      <td id=\"T_8a84a_row1_col1\" class=\"data row1 col1\" >134.39</td>\n",
       "      <td id=\"T_8a84a_row1_col2\" class=\"data row1 col2\" >436.01</td>\n",
       "      <td id=\"T_8a84a_row1_col3\" class=\"data row1 col3\" >7909.00</td>\n",
       "      <td id=\"T_8a84a_row1_col4\" class=\"data row1 col4\" >18.14</td>\n",
       "    </tr>\n",
       "    <tr>\n",
       "      <td id=\"T_8a84a_row2_col0\" class=\"data row2 col0\" >508.16</td>\n",
       "      <td id=\"T_8a84a_row2_col1\" class=\"data row2 col1\" >161.88</td>\n",
       "      <td id=\"T_8a84a_row2_col2\" class=\"data row2 col2\" >359.85</td>\n",
       "      <td id=\"T_8a84a_row2_col3\" class=\"data row2 col3\" >3801.00</td>\n",
       "      <td id=\"T_8a84a_row2_col4\" class=\"data row2 col4\" >10.56</td>\n",
       "    </tr>\n",
       "    <tr>\n",
       "      <td id=\"T_8a84a_row3_col0\" class=\"data row3 col0\" >914.66</td>\n",
       "      <td id=\"T_8a84a_row3_col1\" class=\"data row3 col1\" >147.70</td>\n",
       "      <td id=\"T_8a84a_row3_col2\" class=\"data row3 col2\" >296.29</td>\n",
       "      <td id=\"T_8a84a_row3_col3\" class=\"data row3 col3\" >5026.00</td>\n",
       "      <td id=\"T_8a84a_row3_col4\" class=\"data row3 col4\" >16.96</td>\n",
       "    </tr>\n",
       "    <tr>\n",
       "      <td id=\"T_8a84a_row4_col0\" class=\"data row4 col0\" >816.75</td>\n",
       "      <td id=\"T_8a84a_row4_col1\" class=\"data row4 col1\" >206.01</td>\n",
       "      <td id=\"T_8a84a_row4_col2\" class=\"data row4 col2\" >300.66</td>\n",
       "      <td id=\"T_8a84a_row4_col3\" class=\"data row4 col3\" >3644.00</td>\n",
       "      <td id=\"T_8a84a_row4_col4\" class=\"data row4 col4\" >12.12</td>\n",
       "    </tr>\n",
       "    <tr>\n",
       "      <td id=\"T_8a84a_row5_col0\" class=\"data row5 col0\" >346.50</td>\n",
       "      <td id=\"T_8a84a_row5_col1\" class=\"data row5 col1\" >179.50</td>\n",
       "      <td id=\"T_8a84a_row5_col2\" class=\"data row5 col2\" >48.08</td>\n",
       "      <td id=\"T_8a84a_row5_col3\" class=\"data row5 col3\" >162.00</td>\n",
       "      <td id=\"T_8a84a_row5_col4\" class=\"data row5 col4\" >3.37</td>\n",
       "    </tr>\n",
       "    <tr>\n",
       "      <td id=\"T_8a84a_row6_col0\" class=\"data row6 col0\" >269.13</td>\n",
       "      <td id=\"T_8a84a_row6_col1\" class=\"data row6 col1\" >236.74</td>\n",
       "      <td id=\"T_8a84a_row6_col2\" class=\"data row6 col2\" >782.20</td>\n",
       "      <td id=\"T_8a84a_row6_col3\" class=\"data row6 col3\" >10801.00</td>\n",
       "      <td id=\"T_8a84a_row6_col4\" class=\"data row6 col4\" >13.81</td>\n",
       "    </tr>\n",
       "    <tr>\n",
       "      <td id=\"T_8a84a_row7_col0\" class=\"data row7 col0\" >610.01</td>\n",
       "      <td id=\"T_8a84a_row7_col1\" class=\"data row7 col1\" >210.84</td>\n",
       "      <td id=\"T_8a84a_row7_col2\" class=\"data row7 col2\" >362.80</td>\n",
       "      <td id=\"T_8a84a_row7_col3\" class=\"data row7 col3\" >4408.00</td>\n",
       "      <td id=\"T_8a84a_row7_col4\" class=\"data row7 col4\" >12.15</td>\n",
       "    </tr>\n",
       "    <tr>\n",
       "      <td id=\"T_8a84a_row8_col0\" class=\"data row8 col0\" >887.06</td>\n",
       "      <td id=\"T_8a84a_row8_col1\" class=\"data row8 col1\" >320.78</td>\n",
       "      <td id=\"T_8a84a_row8_col2\" class=\"data row8 col2\" >321.24</td>\n",
       "      <td id=\"T_8a84a_row8_col3\" class=\"data row8 col3\" >4758.00</td>\n",
       "      <td id=\"T_8a84a_row8_col4\" class=\"data row8 col4\" >14.81</td>\n",
       "    </tr>\n",
       "    <tr>\n",
       "      <td id=\"T_8a84a_row9_col0\" class=\"data row9 col0\" >481.48</td>\n",
       "      <td id=\"T_8a84a_row9_col1\" class=\"data row9 col1\" >352.07</td>\n",
       "      <td id=\"T_8a84a_row9_col2\" class=\"data row9 col2\" >1165.33</td>\n",
       "      <td id=\"T_8a84a_row9_col3\" class=\"data row9 col3\" >24663.00</td>\n",
       "      <td id=\"T_8a84a_row9_col4\" class=\"data row9 col4\" >21.16</td>\n",
       "    </tr>\n",
       "  </tbody>\n",
       "</table>\n",
       "</center>"
      ],
      "text/plain": [
       "<IPython.core.display.HTML object>"
      ]
     },
     "metadata": {},
     "output_type": "display_data"
    },
    {
     "data": {
      "text/html": [
       "\n",
       "            <center style=\"font-size:14px;\n",
       "                           font-style:default;\">\n",
       "            <b>Table 1.</b> Preview of Table of Region Properties for the Label Connected Components.\n",
       "            </center>\n",
       "            <center style=\"font-size:12px;\"><i>\n",
       "            .\n",
       "            </i></center>\n",
       "            "
      ],
      "text/plain": [
       "<IPython.core.display.HTML object>"
      ]
     },
     "metadata": {},
     "output_type": "display_data"
    }
   ],
   "source": [
    "props = regionprops(img_label)\n",
    "df_props = pd.DataFrame({\n",
    "    'centroid_x': [e.centroid[1] for e in props],\n",
    "    'centroid_y': [e.centroid[0] for e in props],\n",
    "    'perimeter': [e.perimeter for e in props],\n",
    "    'area': [e.area for e in props],\n",
    "    'ap_ratio': [e.area/e.perimeter for e in props],\n",
    "})\n",
    "toc.add_table(df_props.applymap('{:.2f}'.format),\n",
    "              'Table of Region Properties for the Label Connected Components')"
   ]
  },
  {
   "cell_type": "markdown",
   "id": "ed22099b",
   "metadata": {
    "ExecuteTime": {
     "end_time": "2023-05-29T01:47:26.422870Z",
     "start_time": "2023-05-29T01:47:25.591605Z"
    }
   },
   "source": [
    "***\n",
    "<div class=\"header\" style=\"\n",
    "  padding: 20px;\n",
    "  background: black;\">\n",
    "    <h2 style=\"font-family:Copperplate, Sans-serif, Arial;\n",
    "               font-size:30px;\n",
    "               font-style:bold;\n",
    "               color:white;\">\n",
    "        References and Acknowledgement\n",
    "    </h2>\n",
    "</div>\n",
    "\n",
    "***\n",
    "The concepts discussed and images were derived from our MSDS2023 - IIP Course instructed by Benjur Emmanuel L. Borja. ChatGPT was used for concept reviews and writing prompts."
   ]
  }
 ],
 "metadata": {
  "kernelspec": {
   "display_name": "Python 3 (ipykernel)",
   "language": "python",
   "name": "python3"
  },
  "language_info": {
   "codemirror_mode": {
    "name": "ipython",
    "version": 3
   },
   "file_extension": ".py",
   "mimetype": "text/x-python",
   "name": "python",
   "nbconvert_exporter": "python",
   "pygments_lexer": "ipython3",
   "version": "3.10.10"
  },
  "toc": {
   "base_numbering": 1,
   "nav_menu": {},
   "number_sections": true,
   "sideBar": true,
   "skip_h1_title": false,
   "title_cell": "Table of Contents",
   "title_sidebar": "Contents",
   "toc_cell": false,
   "toc_position": {
    "height": "calc(100% - 180px)",
    "left": "10px",
    "top": "150px",
    "width": "186.225px"
   },
   "toc_section_display": true,
   "toc_window_display": true
  }
 },
 "nbformat": 4,
 "nbformat_minor": 5
}
