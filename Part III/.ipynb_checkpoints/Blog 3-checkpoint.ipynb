{
 "cells": [
  {
   "cell_type": "markdown",
   "id": "c3b34282",
   "metadata": {},
   "source": [
    "***\n",
    "<div class=\"header\" style=\"\n",
    "  padding: 20px;\n",
    "  background: black;\">\n",
    "    <h1 style=\"font-family:Copperplate, Sans-serif, Arial;\n",
    "               font-size:50px;\n",
    "               font-style:bold;\n",
    "               color:white;\">\n",
    "        Part III\n",
    "    </h1>\n",
    "    <h2 style=\"font-family:Copperplate, Sans-serif, Arial;\n",
    "               font-size:30px;\n",
    "               font-style:bold;\n",
    "               color:white;\">\n",
    "        Crusader’s Journey in the World of Images Blog Series\n",
    "    </h2>\n",
    "</div>\n",
    "\n",
    "***\n",
    "by : JP Fabrero"
   ]
  },
  {
   "cell_type": "markdown",
   "id": "2adf1acf",
   "metadata": {},
   "source": [
    "***\n",
    "<div class=\"header\" style=\"\n",
    "  padding: 20px;\n",
    "  background: black;\">\n",
    "    <h2 style=\"font-family:Copperplate, Sans-serif, Arial;\n",
    "               font-size:30px;\n",
    "               font-style:bold;\n",
    "               color:white;\">\n",
    "        Importing Libraries\n",
    "    </h2>\n",
    "</div>\n",
    "\n",
    "***"
   ]
  },
  {
   "cell_type": "code",
   "execution_count": 1,
   "id": "e9e1651a",
   "metadata": {
    "ExecuteTime": {
     "end_time": "2023-06-18T02:01:15.794068Z",
     "start_time": "2023-06-18T02:01:13.848057Z"
    }
   },
   "outputs": [
    {
     "name": "stderr",
     "output_type": "stream",
     "text": [
      "Matplotlib created a temporary config/cache directory at /tmp/matplotlib-onccejh7 because the default path (/home/jfabrero/.cache/matplotlib) is not a writable directory; it is highly recommended to set the MPLCONFIGDIR environment variable to a writable directory, in particular to speed up the import of Matplotlib and to better support multiprocessing.\n"
     ]
    }
   ],
   "source": [
    "import os\n",
    "os.environ['SKIMAGE_DATADIR'] = '/tmp/.skimage_cache'\n",
    "\n",
    "import numpy as np\n",
    "import matplotlib.pyplot as plt\n",
    "import matplotlib as mpl\n",
    "\n",
    "import skimage.io as skio\n",
    "from skimage.io import imread, imshow\n",
    "from skimage.color import rgb2gray\n",
    "from scipy.signal import convolve2d\n",
    "from skimage.morphology import erosion, dilation, opening, closing\n",
    "\n",
    "from pickling import *\n",
    "from pyjanitor import auto_toc\n",
    "toc = auto_toc()"
   ]
  },
  {
   "cell_type": "markdown",
   "id": "669f70d2",
   "metadata": {},
   "source": [
    "***\n",
    "<div class=\"header\" style=\"\n",
    "  padding: 20px;\n",
    "  background: black;\">\n",
    "    <h2 style=\"font-family:Copperplate, Sans-serif, Arial;\n",
    "               font-size:30px;\n",
    "               font-style:bold;\n",
    "               color:white;\">\n",
    "        Preface\n",
    "    </h2>\n",
    "</div>\n",
    "\n",
    "***\n",
    "One of my most favorite part of this journey is learning about these techniques. Filtering and morphological operations are important tools in image processing for noise reduction, image enhancement, edge detection, feature extraction, morphological analysis, and as preprocessing steps for further analysis. They play a crucial role in improving image quality, extracting meaningful information, and enabling a wide range of computer vision tasks."
   ]
  },
  {
   "cell_type": "markdown",
   "id": "d1033d1b",
   "metadata": {},
   "source": [
    "***\n",
    "<div class=\"header\" style=\"\n",
    "  padding: 20px;\n",
    "  background: black;\">\n",
    "    <h2 style=\"font-family:Copperplate, Sans-serif, Arial;\n",
    "               font-size:30px;\n",
    "               font-style:bold;\n",
    "               color:white;\">\n",
    "        Filtering\n",
    "    </h2>\n",
    "</div>\n",
    "\n",
    "***\n",
    "Filtering in image processing refers to the process of modifying or enhancing an image by applying mathematical operations to each pixel or a neighborhood of pixels. It involves the use of filters, e.g., low-pass filters, high-pass filters, median filters, and Gaussian filters, and is used for noise reduction, image enhancement, edge detection, and feature extraction."
   ]
  },
  {
   "cell_type": "code",
   "execution_count": 2,
   "id": "69248337",
   "metadata": {
    "ExecuteTime": {
     "end_time": "2023-06-18T02:01:16.431440Z",
     "start_time": "2023-06-18T02:01:15.797554Z"
    }
   },
   "outputs": [
    {
     "data": {
      "text/html": [
       "<img src=\"figures/figure1.png\" alt=\"plots\"style=\"display:block; margin-left:auto;margin-right:auto;width:100%;\">"
      ],
      "text/plain": [
       "<IPython.core.display.HTML object>"
      ]
     },
     "metadata": {},
     "output_type": "display_data"
    },
    {
     "data": {
      "text/html": [
       "\n",
       "            <center style=\"font-size:14px;\n",
       "                      font-style:default;\">\n",
       "            <b>Figure 1.</b> Sample Image (Makati Museum)[1].\n",
       "            </center>\n",
       "            <center style=\"font-size:12px;\"><i>\n",
       "            .\n",
       "            </i></center>\n",
       "            "
      ],
      "text/plain": [
       "<IPython.core.display.HTML object>"
      ]
     },
     "metadata": {},
     "output_type": "display_data"
    }
   ],
   "source": [
    "image = rgb2gray(imread('../makati_museums.jpg')[:,:,:3])\n",
    "fig, ax = plt.subplots(figsize=(15,8))\n",
    "imshow(image)\n",
    "ax.axis('off')\n",
    "toc.add_fig('Sample Image (Makati Museum)[1]', width=100)"
   ]
  },
  {
   "cell_type": "code",
   "execution_count": 3,
   "id": "65b689ca",
   "metadata": {
    "ExecuteTime": {
     "end_time": "2023-06-18T02:01:16.439148Z",
     "start_time": "2023-06-18T02:01:16.433855Z"
    }
   },
   "outputs": [],
   "source": [
    "def convolve(image, kernel, name):\n",
    "    \"\"\"Apply convolution on the given image with the kernel and plot\"\"\"\n",
    "    img_conv = convolve2d(image, kernel, 'same', 'wrap')\n",
    "    fig, ax = plt.subplots(1, 3, figsize=(15, 8), \n",
    "                           gridspec_kw=dict(width_ratios=(4,1,40)))\n",
    "    kern = ax[0].imshow(kernel, cmap='gray')\n",
    "    fig.colorbar(kern, cax=ax[1], shrink=0.4, fraction=0.5)        \n",
    "                           \n",
    "    ax[2].imshow(img_conv, cmap='gray')\n",
    "    ax[2].axis('off')\n",
    "    \n",
    "    toc.add_fig(f'Sample of Filtering - {name}', width=100)"
   ]
  },
  {
   "cell_type": "code",
   "execution_count": 4,
   "id": "39a54b0e",
   "metadata": {
    "ExecuteTime": {
     "end_time": "2023-06-18T02:01:20.258885Z",
     "start_time": "2023-06-18T02:01:16.442227Z"
    },
    "scrolled": false
   },
   "outputs": [
    {
     "data": {
      "text/html": [
       "<img src=\"figures/figure2.png\" alt=\"plots\"style=\"display:block; margin-left:auto;margin-right:auto;width:100%;\">"
      ],
      "text/plain": [
       "<IPython.core.display.HTML object>"
      ]
     },
     "metadata": {},
     "output_type": "display_data"
    },
    {
     "data": {
      "text/html": [
       "\n",
       "            <center style=\"font-size:14px;\n",
       "                      font-style:default;\">\n",
       "            <b>Figure 2.</b> Sample of Filtering - Horizontal Filter.\n",
       "            </center>\n",
       "            <center style=\"font-size:12px;\"><i>\n",
       "            .\n",
       "            </i></center>\n",
       "            "
      ],
      "text/plain": [
       "<IPython.core.display.HTML object>"
      ]
     },
     "metadata": {},
     "output_type": "display_data"
    },
    {
     "data": {
      "text/html": [
       "<img src=\"figures/figure3.png\" alt=\"plots\"style=\"display:block; margin-left:auto;margin-right:auto;width:100%;\">"
      ],
      "text/plain": [
       "<IPython.core.display.HTML object>"
      ]
     },
     "metadata": {},
     "output_type": "display_data"
    },
    {
     "data": {
      "text/html": [
       "\n",
       "            <center style=\"font-size:14px;\n",
       "                      font-style:default;\">\n",
       "            <b>Figure 3.</b> Sample of Filtering - Vertical Filter.\n",
       "            </center>\n",
       "            <center style=\"font-size:12px;\"><i>\n",
       "            .\n",
       "            </i></center>\n",
       "            "
      ],
      "text/plain": [
       "<IPython.core.display.HTML object>"
      ]
     },
     "metadata": {},
     "output_type": "display_data"
    },
    {
     "data": {
      "text/html": [
       "<img src=\"figures/figure4.png\" alt=\"plots\"style=\"display:block; margin-left:auto;margin-right:auto;width:100%;\">"
      ],
      "text/plain": [
       "<IPython.core.display.HTML object>"
      ]
     },
     "metadata": {},
     "output_type": "display_data"
    },
    {
     "data": {
      "text/html": [
       "\n",
       "            <center style=\"font-size:14px;\n",
       "                      font-style:default;\">\n",
       "            <b>Figure 4.</b> Sample of Filtering - Left Diagonal Filter.\n",
       "            </center>\n",
       "            <center style=\"font-size:12px;\"><i>\n",
       "            .\n",
       "            </i></center>\n",
       "            "
      ],
      "text/plain": [
       "<IPython.core.display.HTML object>"
      ]
     },
     "metadata": {},
     "output_type": "display_data"
    },
    {
     "data": {
      "text/html": [
       "<img src=\"figures/figure5.png\" alt=\"plots\"style=\"display:block; margin-left:auto;margin-right:auto;width:100%;\">"
      ],
      "text/plain": [
       "<IPython.core.display.HTML object>"
      ]
     },
     "metadata": {},
     "output_type": "display_data"
    },
    {
     "data": {
      "text/html": [
       "\n",
       "            <center style=\"font-size:14px;\n",
       "                      font-style:default;\">\n",
       "            <b>Figure 5.</b> Sample of Filtering - Right Diagonal Filter.\n",
       "            </center>\n",
       "            <center style=\"font-size:12px;\"><i>\n",
       "            .\n",
       "            </i></center>\n",
       "            "
      ],
      "text/plain": [
       "<IPython.core.display.HTML object>"
      ]
     },
     "metadata": {},
     "output_type": "display_data"
    },
    {
     "data": {
      "text/html": [
       "<img src=\"figures/figure6.png\" alt=\"plots\"style=\"display:block; margin-left:auto;margin-right:auto;width:100%;\">"
      ],
      "text/plain": [
       "<IPython.core.display.HTML object>"
      ]
     },
     "metadata": {},
     "output_type": "display_data"
    },
    {
     "data": {
      "text/html": [
       "\n",
       "            <center style=\"font-size:14px;\n",
       "                      font-style:default;\">\n",
       "            <b>Figure 6.</b> Sample of Filtering - Edge Detection.\n",
       "            </center>\n",
       "            <center style=\"font-size:12px;\"><i>\n",
       "            .\n",
       "            </i></center>\n",
       "            "
      ],
      "text/plain": [
       "<IPython.core.display.HTML object>"
      ]
     },
     "metadata": {},
     "output_type": "display_data"
    },
    {
     "data": {
      "text/html": [
       "<img src=\"figures/figure7.png\" alt=\"plots\"style=\"display:block; margin-left:auto;margin-right:auto;width:100%;\">"
      ],
      "text/plain": [
       "<IPython.core.display.HTML object>"
      ]
     },
     "metadata": {},
     "output_type": "display_data"
    },
    {
     "data": {
      "text/html": [
       "\n",
       "            <center style=\"font-size:14px;\n",
       "                      font-style:default;\">\n",
       "            <b>Figure 7.</b> Sample of Filtering - Sharpen.\n",
       "            </center>\n",
       "            <center style=\"font-size:12px;\"><i>\n",
       "            .\n",
       "            </i></center>\n",
       "            "
      ],
      "text/plain": [
       "<IPython.core.display.HTML object>"
      ]
     },
     "metadata": {},
     "output_type": "display_data"
    },
    {
     "data": {
      "text/html": [
       "<img src=\"figures/figure8.png\" alt=\"plots\"style=\"display:block; margin-left:auto;margin-right:auto;width:100%;\">"
      ],
      "text/plain": [
       "<IPython.core.display.HTML object>"
      ]
     },
     "metadata": {},
     "output_type": "display_data"
    },
    {
     "data": {
      "text/html": [
       "\n",
       "            <center style=\"font-size:14px;\n",
       "                      font-style:default;\">\n",
       "            <b>Figure 8.</b> Sample of Filtering - Box Blur/Mean Filter.\n",
       "            </center>\n",
       "            <center style=\"font-size:12px;\"><i>\n",
       "            .\n",
       "            </i></center>\n",
       "            "
      ],
      "text/plain": [
       "<IPython.core.display.HTML object>"
      ]
     },
     "metadata": {},
     "output_type": "display_data"
    },
    {
     "data": {
      "text/html": [
       "<img src=\"figures/figure9.png\" alt=\"plots\"style=\"display:block; margin-left:auto;margin-right:auto;width:100%;\">"
      ],
      "text/plain": [
       "<IPython.core.display.HTML object>"
      ]
     },
     "metadata": {},
     "output_type": "display_data"
    },
    {
     "data": {
      "text/html": [
       "\n",
       "            <center style=\"font-size:14px;\n",
       "                      font-style:default;\">\n",
       "            <b>Figure 9.</b> Sample of Filtering - Gausssian Blur.\n",
       "            </center>\n",
       "            <center style=\"font-size:12px;\"><i>\n",
       "            .\n",
       "            </i></center>\n",
       "            "
      ],
      "text/plain": [
       "<IPython.core.display.HTML object>"
      ]
     },
     "metadata": {},
     "output_type": "display_data"
    }
   ],
   "source": [
    "# Sobel Operators and Filters\n",
    "kernels = [\n",
    "    np.array([[1, 2, 1],\n",
    "              [0, 0, 0],\n",
    "              [-1, -2, -1]]),\n",
    "    np.array([[1, 0, -1],\n",
    "              [2, 0, -2],\n",
    "              [1, 0, -1]]),\n",
    "    np.array([[1, -1, -1],\n",
    "              [-1, 1, -1],\n",
    "              [-1, -1, 1]]),\n",
    "    np.array([[-1, -1, 1],\n",
    "              [-1, 1, -1],\n",
    "              [1, -1, -1]]),\n",
    "    np.array([[-1, -1, -1],\n",
    "              [-1, 8, -1],\n",
    "              [-1, -1, -1]]),\n",
    "    np.array([[0, -1, 0],\n",
    "              [-1, 5, -1],\n",
    "              [0, -1, 0]]),\n",
    "    (1 / 9.0) * np.array([[1., 1., 1.],\n",
    "                          [1., 1., 1.],\n",
    "                          [1., 1., 1.]]),\n",
    "    (1 / 16.0) * np.array([[1., 2., 1.],\n",
    "                           [2., 4., 2.],\n",
    "                           [1., 2., 1.]])\n",
    "]\n",
    "uses = [\n",
    "    'Horizontal Filter',\n",
    "    'Vertical Filter',\n",
    "    'Left Diagonal Filter',\n",
    "    'Right Diagonal Filter',\n",
    "    'Edge Detection',\n",
    "    'Sharpen',\n",
    "    'Box Blur/Mean Filter',\n",
    "    'Gausssian Blur',\n",
    "]\n",
    "\n",
    "for kernel, name in zip(kernels, uses):\n",
    "    convolve(image, kernel, name)"
   ]
  },
  {
   "cell_type": "markdown",
   "id": "92de758a",
   "metadata": {},
   "source": [
    "***\n",
    "<div class=\"header\" style=\"\n",
    "    padding: 20px;\n",
    "    background: black;\">\n",
    "    <h2 style=\"font-family:Copperplate, Sans-serif, Arial;\n",
    "               font-size:30px;\n",
    "               font-style:bold;\n",
    "               color:white;\">\n",
    "        Morphological Operations\n",
    "    </h2>\n",
    "</div>\n",
    "\n",
    "***\n",
    "Morphological operations in image processing are mathematical operations that are applied to an image based on the shape or structuring element. These operations analyze and manipulate the geometric structure of images. Morphological operations are commonly used for tasks such as noise removal, filling gaps, segmenting objects, and modifying the shape and connectivity of regions within an image."
   ]
  },
  {
   "cell_type": "code",
   "execution_count": 5,
   "id": "cbddf165",
   "metadata": {
    "ExecuteTime": {
     "end_time": "2023-06-18T02:01:20.468691Z",
     "start_time": "2023-06-18T02:01:20.261264Z"
    }
   },
   "outputs": [
    {
     "data": {
      "text/html": [
       "<img src=\"figures/figure10.png\" alt=\"plots\"style=\"display:block; margin-left:auto;margin-right:auto;width:100%;\">"
      ],
      "text/plain": [
       "<IPython.core.display.HTML object>"
      ]
     },
     "metadata": {},
     "output_type": "display_data"
    },
    {
     "data": {
      "text/html": [
       "\n",
       "            <center style=\"font-size:14px;\n",
       "                      font-style:default;\">\n",
       "            <b>Figure 10.</b> Sample Image.\n",
       "            </center>\n",
       "            <center style=\"font-size:12px;\"><i>\n",
       "            .\n",
       "            </i></center>\n",
       "            "
      ],
      "text/plain": [
       "<IPython.core.display.HTML object>"
      ]
     },
     "metadata": {},
     "output_type": "display_data"
    }
   ],
   "source": [
    "image2 = rgb2gray(imread('../art1.png'))\n",
    "fig, ax = plt.subplots(figsize=(15,8))\n",
    "imshow(image2)\n",
    "ax.axis('off')\n",
    "toc.add_fig('Sample Image', width=100)"
   ]
  },
  {
   "cell_type": "markdown",
   "id": "e58f1cc5",
   "metadata": {},
   "source": [
    "<div class=\"header\" style=\"\n",
    "    padding: 10px;\n",
    "    background: black;\">\n",
    "    <h3 style=\"font-family:Copperplate, Sans-serif, Arial;\n",
    "               font-size:15px;\n",
    "               font-style:bold;\n",
    "               color:white;\">\n",
    "        Erosion\n",
    "    </h3>\n",
    "</div>\n",
    "\n",
    "***\n",
    "Erosion erodes away the boundaries of objects, making them smaller or thinner."
   ]
  },
  {
   "cell_type": "code",
   "execution_count": 6,
   "id": "c77df5da",
   "metadata": {
    "ExecuteTime": {
     "end_time": "2023-06-18T02:01:20.476669Z",
     "start_time": "2023-06-18T02:01:20.470849Z"
    },
    "scrolled": false
   },
   "outputs": [],
   "source": [
    "def erode(image, selem):\n",
    "    \"\"\"Perform erosion and plot\"\"\"\n",
    "    fig, ax = plt.subplots(1, 3, figsize=(15, 8), \n",
    "                       gridspec_kw=dict(width_ratios=(1,20,20)))\n",
    "    ax[0].imshow(selem, 'gray')\n",
    "    ax[0].axis('off')\n",
    "    \n",
    "    for i in range(2):\n",
    "        image = erosion(image, selem)\n",
    "        ax[i+1].imshow(image, 'gray')\n",
    "        ax[i+1].axis('off')\n",
    "        ax[i+1].set_title(f'$N = {i+1}$')\n",
    "        \n",
    "    toc.add_fig('Sample Erosion', width=100)"
   ]
  },
  {
   "cell_type": "code",
   "execution_count": 7,
   "id": "a5abaa93",
   "metadata": {
    "ExecuteTime": {
     "end_time": "2023-06-18T02:01:20.755596Z",
     "start_time": "2023-06-18T02:01:20.478980Z"
    }
   },
   "outputs": [
    {
     "data": {
      "text/html": [
       "<img src=\"figures/figure11.png\" alt=\"plots\"style=\"display:block; margin-left:auto;margin-right:auto;width:100%;\">"
      ],
      "text/plain": [
       "<IPython.core.display.HTML object>"
      ]
     },
     "metadata": {},
     "output_type": "display_data"
    },
    {
     "data": {
      "text/html": [
       "\n",
       "            <center style=\"font-size:14px;\n",
       "                      font-style:default;\">\n",
       "            <b>Figure 11.</b> Sample Erosion.\n",
       "            </center>\n",
       "            <center style=\"font-size:12px;\"><i>\n",
       "            .\n",
       "            </i></center>\n",
       "            "
      ],
      "text/plain": [
       "<IPython.core.display.HTML object>"
      ]
     },
     "metadata": {},
     "output_type": "display_data"
    }
   ],
   "source": [
    "selem = np.array([[0,1,0],\n",
    "                  [1,1,1],\n",
    "                  [0,1,0]])\n",
    "erode(image2, selem)"
   ]
  },
  {
   "cell_type": "markdown",
   "id": "1450a4ae",
   "metadata": {},
   "source": [
    "<div class=\"header\" style=\"\n",
    "    padding: 10px;\n",
    "    background: black;\">\n",
    "    <h3 style=\"font-family:Copperplate, Sans-serif, Arial;\n",
    "               font-size:15px;\n",
    "               font-style:bold;\n",
    "               color:white;\">\n",
    "        Dilation\n",
    "    </h3>\n",
    "</div>\n",
    "\n",
    "***\n",
    "Dilation expands or grows the boundaries, making objects larger or thicker."
   ]
  },
  {
   "cell_type": "code",
   "execution_count": 8,
   "id": "4477af51",
   "metadata": {
    "ExecuteTime": {
     "end_time": "2023-06-18T02:01:20.763261Z",
     "start_time": "2023-06-18T02:01:20.757723Z"
    }
   },
   "outputs": [],
   "source": [
    "def dilate(image, selem):\n",
    "    \"\"\"Perform dilation and plot\"\"\"\n",
    "    fig, ax = plt.subplots(1, 3, figsize=(15, 8), \n",
    "                       gridspec_kw=dict(width_ratios=(1,20,20)))\n",
    "    ax[0].imshow(selem, 'gray')\n",
    "    ax[0].axis('off')\n",
    "    \n",
    "    for i in range(2):\n",
    "        image = dilation(image, selem)\n",
    "        ax[i+1].imshow(image, 'gray')\n",
    "        ax[i+1].axis('off')\n",
    "        ax[i+1].set_title(f'$N = {i+1}$')\n",
    "        \n",
    "    toc.add_fig('Sample Dilation', width=100)"
   ]
  },
  {
   "cell_type": "code",
   "execution_count": 9,
   "id": "9fac9387",
   "metadata": {
    "ExecuteTime": {
     "end_time": "2023-06-18T02:01:20.990794Z",
     "start_time": "2023-06-18T02:01:20.765280Z"
    },
    "scrolled": false
   },
   "outputs": [
    {
     "data": {
      "text/html": [
       "<img src=\"figures/figure12.png\" alt=\"plots\"style=\"display:block; margin-left:auto;margin-right:auto;width:100%;\">"
      ],
      "text/plain": [
       "<IPython.core.display.HTML object>"
      ]
     },
     "metadata": {},
     "output_type": "display_data"
    },
    {
     "data": {
      "text/html": [
       "\n",
       "            <center style=\"font-size:14px;\n",
       "                      font-style:default;\">\n",
       "            <b>Figure 12.</b> Sample Dilation.\n",
       "            </center>\n",
       "            <center style=\"font-size:12px;\"><i>\n",
       "            .\n",
       "            </i></center>\n",
       "            "
      ],
      "text/plain": [
       "<IPython.core.display.HTML object>"
      ]
     },
     "metadata": {},
     "output_type": "display_data"
    }
   ],
   "source": [
    "selem = np.array([[0,1,0],\n",
    "                  [1,1,1],\n",
    "                  [0,1,0]])\n",
    "dilate(image2, selem)"
   ]
  },
  {
   "cell_type": "markdown",
   "id": "e13d634a",
   "metadata": {},
   "source": [
    "<div class=\"header\" style=\"\n",
    "    padding: 10px;\n",
    "    background: black;\">\n",
    "    <h3 style=\"font-family:Copperplate, Sans-serif, Arial;\n",
    "               font-size:15px;\n",
    "               font-style:bold;\n",
    "               color:white;\">\n",
    "        Opening\n",
    "    </h3>\n",
    "</div>\n",
    "\n",
    "***\n",
    "Opening is a sequential application of erosion then dilation."
   ]
  },
  {
   "cell_type": "code",
   "execution_count": 10,
   "id": "5d5c3e50",
   "metadata": {
    "ExecuteTime": {
     "end_time": "2023-06-18T02:01:21.012572Z",
     "start_time": "2023-06-18T02:01:20.999105Z"
    },
    "scrolled": true
   },
   "outputs": [],
   "source": [
    "def open_(image, selem):\n",
    "    \"\"\"Perform opening and plot\"\"\"\n",
    "    fig, ax = plt.subplots(1, 3, figsize=(15, 8), \n",
    "                       gridspec_kw=dict(width_ratios=(1,20,20)))\n",
    "    ax[0].imshow(selem, 'gray')\n",
    "    ax[0].axis('off')\n",
    "    \n",
    "    image = erosion(image, selem)\n",
    "    ax[1].imshow(image, 'gray')\n",
    "    ax[1].axis('off')\n",
    "    ax[1].set_title('Erosion')\n",
    "\n",
    "    image = dilation(image, selem)\n",
    "    ax[2].imshow(image, 'gray')\n",
    "    ax[2].axis('off')\n",
    "    ax[2].set_title('Dilation')\n",
    "    \n",
    "    toc.add_fig('Sample Opening', width=100)"
   ]
  },
  {
   "cell_type": "code",
   "execution_count": 11,
   "id": "b32e1205",
   "metadata": {
    "ExecuteTime": {
     "end_time": "2023-06-18T02:01:21.251441Z",
     "start_time": "2023-06-18T02:01:21.016912Z"
    },
    "scrolled": false
   },
   "outputs": [
    {
     "data": {
      "text/html": [
       "<img src=\"figures/figure13.png\" alt=\"plots\"style=\"display:block; margin-left:auto;margin-right:auto;width:100%;\">"
      ],
      "text/plain": [
       "<IPython.core.display.HTML object>"
      ]
     },
     "metadata": {},
     "output_type": "display_data"
    },
    {
     "data": {
      "text/html": [
       "\n",
       "            <center style=\"font-size:14px;\n",
       "                      font-style:default;\">\n",
       "            <b>Figure 13.</b> Sample Opening.\n",
       "            </center>\n",
       "            <center style=\"font-size:12px;\"><i>\n",
       "            .\n",
       "            </i></center>\n",
       "            "
      ],
      "text/plain": [
       "<IPython.core.display.HTML object>"
      ]
     },
     "metadata": {},
     "output_type": "display_data"
    }
   ],
   "source": [
    "selem2 = np.array([[0,1,1,1,0],\n",
    "                   [1,1,1,1,1],\n",
    "                   [1,1,1,1,1],\n",
    "                   [1,1,1,1,1],\n",
    "                   [0,1,1,1,0]])\n",
    "open_(image2, selem2)"
   ]
  },
  {
   "cell_type": "markdown",
   "id": "a233f72c",
   "metadata": {},
   "source": [
    "<div class=\"header\" style=\"\n",
    "    padding: 10px;\n",
    "    background: black;\">\n",
    "    <h3 style=\"font-family:Copperplate, Sans-serif, Arial;\n",
    "               font-size:15px;\n",
    "               font-style:bold;\n",
    "               color:white;\">\n",
    "        Closing\n",
    "    </h3>\n",
    "</div>\n",
    "\n",
    "***\n",
    "Closing is a sequential application of dilation then erosion."
   ]
  },
  {
   "cell_type": "code",
   "execution_count": 12,
   "id": "1c1ad3eb",
   "metadata": {
    "ExecuteTime": {
     "end_time": "2023-06-18T02:01:21.260050Z",
     "start_time": "2023-06-18T02:01:21.253855Z"
    },
    "scrolled": true
   },
   "outputs": [],
   "source": [
    "def close_(image, selem):\n",
    "    \"\"\"Perform closing and plot\"\"\"\n",
    "    fig, ax = plt.subplots(1, 3, figsize=(15, 8), \n",
    "                       gridspec_kw=dict(width_ratios=(1,20,20)))\n",
    "    ax[0].imshow(selem, 'gray')\n",
    "    ax[0].axis('off')\n",
    "    \n",
    "    image = dilation(image, selem)\n",
    "    ax[1].imshow(image, 'gray')\n",
    "    ax[1].axis('off')\n",
    "    ax[1].set_title('Dilation')\n",
    "\n",
    "    image = erosion(image, selem)\n",
    "    ax[2].imshow(image, 'gray')\n",
    "    ax[2].axis('off')\n",
    "    ax[2].set_title('Erosion')\n",
    "    \n",
    "    toc.add_fig('Sample Closing', width=100)"
   ]
  },
  {
   "cell_type": "code",
   "execution_count": 13,
   "id": "56c519ac",
   "metadata": {
    "ExecuteTime": {
     "end_time": "2023-06-18T02:01:21.628192Z",
     "start_time": "2023-06-18T02:01:21.264473Z"
    },
    "scrolled": false
   },
   "outputs": [
    {
     "data": {
      "text/html": [
       "<img src=\"figures/figure14.png\" alt=\"plots\"style=\"display:block; margin-left:auto;margin-right:auto;width:100%;\">"
      ],
      "text/plain": [
       "<IPython.core.display.HTML object>"
      ]
     },
     "metadata": {},
     "output_type": "display_data"
    },
    {
     "data": {
      "text/html": [
       "\n",
       "            <center style=\"font-size:14px;\n",
       "                      font-style:default;\">\n",
       "            <b>Figure 14.</b> Sample Closing.\n",
       "            </center>\n",
       "            <center style=\"font-size:12px;\"><i>\n",
       "            .\n",
       "            </i></center>\n",
       "            "
      ],
      "text/plain": [
       "<IPython.core.display.HTML object>"
      ]
     },
     "metadata": {},
     "output_type": "display_data"
    }
   ],
   "source": [
    "selem2 = np.array([[0,1,1,1,0],\n",
    "                   [1,1,1,1,1],\n",
    "                   [1,1,1,1,1],\n",
    "                   [1,1,1,1,1],\n",
    "                   [0,1,1,1,0]])\n",
    "close_(image2, selem2)"
   ]
  },
  {
   "cell_type": "markdown",
   "id": "ec454671",
   "metadata": {},
   "source": [
    "***\n",
    "<div class=\"header\" style=\"\n",
    "  padding: 20px;\n",
    "  background: black;\">\n",
    "    <h2 style=\"font-family:Copperplate, Sans-serif, Arial;\n",
    "               font-size:30px;\n",
    "               font-style:bold;\n",
    "               color:white;\">\n",
    "        Author's Notes\n",
    "    </h2>\n",
    "</div>\n",
    "\n",
    "***\n",
    "The methods discussed in this session gave me overwhelming feeling of power. Familiarizing oneself with the different filters not only equips them with high-impact, low effort techniques, it also draws some appreciation and intuition for the learned kernels in Neural Networks. Edge detection and blurring are perhaps the two most universal filters applicable in different use cases.\n",
    "\n",
    "Performing morphological operations definitely has its limitations, but the techniques are very effective and impactful given the right opportunity."
   ]
  },
  {
   "cell_type": "markdown",
   "id": "ed22099b",
   "metadata": {
    "ExecuteTime": {
     "end_time": "2023-05-29T01:47:26.422870Z",
     "start_time": "2023-05-29T01:47:25.591605Z"
    }
   },
   "source": [
    "***\n",
    "<div class=\"header\" style=\"\n",
    "  padding: 20px;\n",
    "  background: black;\">\n",
    "    <h2 style=\"font-family:Copperplate, Sans-serif, Arial;\n",
    "               font-size:30px;\n",
    "               font-style:bold;\n",
    "               color:white;\">\n",
    "        References and Acknowledgement\n",
    "    </h2>\n",
    "</div>\n",
    "\n",
    "***\n",
    "The concepts discussed and images were derived from our MSDS2023 - IIP Course instructed by Benjur Emmanuel L. Borja. ChatGPT was used for concept reviews and writing prompts.\n",
    "\n",
    "[1] Atiq, A. (2023, June 8). Makati Museums: Walk Into The History And Culture of Makati. https://traveltriangle.com/blog/makati-museums/"
   ]
  }
 ],
 "metadata": {
  "kernelspec": {
   "display_name": "Python 3 (ipykernel)",
   "language": "python",
   "name": "python3"
  },
  "language_info": {
   "codemirror_mode": {
    "name": "ipython",
    "version": 3
   },
   "file_extension": ".py",
   "mimetype": "text/x-python",
   "name": "python",
   "nbconvert_exporter": "python",
   "pygments_lexer": "ipython3",
   "version": "3.10.10"
  },
  "toc": {
   "base_numbering": 1,
   "nav_menu": {},
   "number_sections": true,
   "sideBar": true,
   "skip_h1_title": false,
   "title_cell": "Table of Contents",
   "title_sidebar": "Contents",
   "toc_cell": false,
   "toc_position": {
    "height": "calc(100% - 180px)",
    "left": "10px",
    "top": "150px",
    "width": "186.225px"
   },
   "toc_section_display": true,
   "toc_window_display": true
  }
 },
 "nbformat": 4,
 "nbformat_minor": 5
}
